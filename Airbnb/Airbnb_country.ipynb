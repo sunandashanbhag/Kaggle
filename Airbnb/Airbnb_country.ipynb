{
 "cells": [
  {
   "cell_type": "code",
   "execution_count": 1,
   "metadata": {
    "ExecuteTime": {
     "end_time": "2020-04-18T21:55:55.905764Z",
     "start_time": "2020-04-18T21:55:52.934812Z"
    }
   },
   "outputs": [],
   "source": [
    "import pandas as pd\n",
    "import numpy as np\n",
    "import matplotlib.pyplot as plt\n",
    "import seaborn as sns"
   ]
  },
  {
   "cell_type": "code",
   "execution_count": 2,
   "metadata": {
    "ExecuteTime": {
     "end_time": "2020-04-18T21:55:56.859733Z",
     "start_time": "2020-04-18T21:55:56.857208Z"
    }
   },
   "outputs": [],
   "source": [
    "DATA_FOLDER = \"/Users/sunandashanbhag/Desktop/Coding/Kaggle/Airbnb/airbnb-recruiting-new-user-bookings/\"\n",
    "WORK_FOLDER = \"/Users/sunandashanbhag/Desktop/Coding/Kaggle/Airbnb/\""
   ]
  },
  {
   "cell_type": "code",
   "execution_count": 3,
   "metadata": {
    "ExecuteTime": {
     "end_time": "2020-04-18T21:58:50.760199Z",
     "start_time": "2020-04-18T21:58:41.913219Z"
    }
   },
   "outputs": [],
   "source": [
    "train_users = pd.read_csv(DATA_FOLDER+\"train_users_2.csv\")\n",
    "test_users = pd.read_csv(DATA_FOLDER+\"test_users.csv\")\n",
    "sessions = pd.read_csv(DATA_FOLDER+\"sessions.csv\")\n",
    "countries = pd.read_csv(DATA_FOLDER+\"countries.csv\")\n",
    "age_gender_bkts = pd.read_csv(DATA_FOLDER+\"age_gender_bkts.csv\")\n"
   ]
  },
  {
   "cell_type": "code",
   "execution_count": 4,
   "metadata": {
    "ExecuteTime": {
     "end_time": "2020-04-18T21:58:50.766243Z",
     "start_time": "2020-04-18T21:58:50.762679Z"
    }
   },
   "outputs": [],
   "source": [
    "feature_dfs = dict()"
   ]
  },
  {
   "cell_type": "code",
   "execution_count": 5,
   "metadata": {
    "ExecuteTime": {
     "end_time": "2020-04-18T21:58:50.775335Z",
     "start_time": "2020-04-18T21:58:50.768752Z"
    }
   },
   "outputs": [
    {
     "data": {
      "text/plain": [
       "((213451, 16), (10567737, 6), (10, 7), (420, 5))"
      ]
     },
     "execution_count": 5,
     "metadata": {},
     "output_type": "execute_result"
    }
   ],
   "source": [
    "train_users.shape, sessions.shape, countries.shape, age_gender_bkts.shape"
   ]
  },
  {
   "cell_type": "code",
   "execution_count": 7,
   "metadata": {
    "ExecuteTime": {
     "end_time": "2020-04-18T21:58:55.492150Z",
     "start_time": "2020-04-18T21:58:55.482940Z"
    }
   },
   "outputs": [],
   "source": [
    "def dq(df):\n",
    "#     display(df.info())\n",
    "    dq_df = None\n",
    "    for c in df.columns:\n",
    "        tmp = pd.DataFrame()\n",
    "        tmp.loc[0,'column'] = c\n",
    "        tmp.loc[0,'count_notnull'] = df[~df[c].isnull()].shape[0]\n",
    "        tmp.loc[0,'perc_notnull'] = round(tmp.loc[0,'count_notnull']/df.shape[0]*100,2)\n",
    "        tmp.loc[0,'count_null'] = df[df[c].isnull()].shape[0]\n",
    "        tmp.loc[0,'perc_null'] = round(tmp.loc[0,'count_null']/df.shape[0]*100,2)\n",
    "        tmp.loc[0,'count_unique'] = df[c].nunique()\n",
    "        if (df[c].dtype in ['int64', 'float64']):\n",
    "            tmp.loc[0,\"min\"] = format(df[c].min(),'g')\n",
    "            tmp.loc[0,\"max\"] = format(df[c].max(),'g')\n",
    "        else:\n",
    "            tmp.loc[0,\"min\"] = None\n",
    "            tmp.loc[0,\"max\"] = None  \n",
    "        if dq_df is None:\n",
    "            dq_df = tmp\n",
    "        else:\n",
    "            dq_df = pd.concat([dq_df, tmp])\n",
    "    return dq_df"
   ]
  },
  {
   "cell_type": "code",
   "execution_count": 51,
   "metadata": {
    "scrolled": true
   },
   "outputs": [
    {
     "data": {
      "text/html": [
       "<div>\n",
       "<style scoped>\n",
       "    .dataframe tbody tr th:only-of-type {\n",
       "        vertical-align: middle;\n",
       "    }\n",
       "\n",
       "    .dataframe tbody tr th {\n",
       "        vertical-align: top;\n",
       "    }\n",
       "\n",
       "    .dataframe thead th {\n",
       "        text-align: right;\n",
       "    }\n",
       "</style>\n",
       "<table border=\"1\" class=\"dataframe\">\n",
       "  <thead>\n",
       "    <tr style=\"text-align: right;\">\n",
       "      <th></th>\n",
       "      <th>column</th>\n",
       "      <th>count_notnull</th>\n",
       "      <th>perc_notnull</th>\n",
       "      <th>count_null</th>\n",
       "      <th>perc_null</th>\n",
       "      <th>count_unique</th>\n",
       "      <th>min</th>\n",
       "      <th>max</th>\n",
       "    </tr>\n",
       "  </thead>\n",
       "  <tbody>\n",
       "    <tr>\n",
       "      <th>0</th>\n",
       "      <td>id</td>\n",
       "      <td>213451.0</td>\n",
       "      <td>100.00</td>\n",
       "      <td>0.0</td>\n",
       "      <td>0.00</td>\n",
       "      <td>213451.0</td>\n",
       "      <td>NaN</td>\n",
       "      <td>NaN</td>\n",
       "    </tr>\n",
       "    <tr>\n",
       "      <th>0</th>\n",
       "      <td>date_account_created</td>\n",
       "      <td>213451.0</td>\n",
       "      <td>100.00</td>\n",
       "      <td>0.0</td>\n",
       "      <td>0.00</td>\n",
       "      <td>1634.0</td>\n",
       "      <td>NaN</td>\n",
       "      <td>NaN</td>\n",
       "    </tr>\n",
       "    <tr>\n",
       "      <th>0</th>\n",
       "      <td>timestamp_first_active</td>\n",
       "      <td>213451.0</td>\n",
       "      <td>100.00</td>\n",
       "      <td>0.0</td>\n",
       "      <td>0.00</td>\n",
       "      <td>213451.0</td>\n",
       "      <td>2.00903e+13</td>\n",
       "      <td>2.01406e+13</td>\n",
       "    </tr>\n",
       "    <tr>\n",
       "      <th>0</th>\n",
       "      <td>date_first_booking</td>\n",
       "      <td>88908.0</td>\n",
       "      <td>41.65</td>\n",
       "      <td>124543.0</td>\n",
       "      <td>58.35</td>\n",
       "      <td>1976.0</td>\n",
       "      <td>NaN</td>\n",
       "      <td>NaN</td>\n",
       "    </tr>\n",
       "    <tr>\n",
       "      <th>0</th>\n",
       "      <td>gender</td>\n",
       "      <td>213451.0</td>\n",
       "      <td>100.00</td>\n",
       "      <td>0.0</td>\n",
       "      <td>0.00</td>\n",
       "      <td>4.0</td>\n",
       "      <td>NaN</td>\n",
       "      <td>NaN</td>\n",
       "    </tr>\n",
       "    <tr>\n",
       "      <th>0</th>\n",
       "      <td>age</td>\n",
       "      <td>125461.0</td>\n",
       "      <td>58.78</td>\n",
       "      <td>87990.0</td>\n",
       "      <td>41.22</td>\n",
       "      <td>127.0</td>\n",
       "      <td>1</td>\n",
       "      <td>2014</td>\n",
       "    </tr>\n",
       "    <tr>\n",
       "      <th>0</th>\n",
       "      <td>signup_method</td>\n",
       "      <td>213451.0</td>\n",
       "      <td>100.00</td>\n",
       "      <td>0.0</td>\n",
       "      <td>0.00</td>\n",
       "      <td>3.0</td>\n",
       "      <td>NaN</td>\n",
       "      <td>NaN</td>\n",
       "    </tr>\n",
       "    <tr>\n",
       "      <th>0</th>\n",
       "      <td>signup_flow</td>\n",
       "      <td>213451.0</td>\n",
       "      <td>100.00</td>\n",
       "      <td>0.0</td>\n",
       "      <td>0.00</td>\n",
       "      <td>17.0</td>\n",
       "      <td>0</td>\n",
       "      <td>25</td>\n",
       "    </tr>\n",
       "    <tr>\n",
       "      <th>0</th>\n",
       "      <td>language</td>\n",
       "      <td>213451.0</td>\n",
       "      <td>100.00</td>\n",
       "      <td>0.0</td>\n",
       "      <td>0.00</td>\n",
       "      <td>25.0</td>\n",
       "      <td>NaN</td>\n",
       "      <td>NaN</td>\n",
       "    </tr>\n",
       "    <tr>\n",
       "      <th>0</th>\n",
       "      <td>affiliate_channel</td>\n",
       "      <td>213451.0</td>\n",
       "      <td>100.00</td>\n",
       "      <td>0.0</td>\n",
       "      <td>0.00</td>\n",
       "      <td>8.0</td>\n",
       "      <td>NaN</td>\n",
       "      <td>NaN</td>\n",
       "    </tr>\n",
       "    <tr>\n",
       "      <th>0</th>\n",
       "      <td>affiliate_provider</td>\n",
       "      <td>213451.0</td>\n",
       "      <td>100.00</td>\n",
       "      <td>0.0</td>\n",
       "      <td>0.00</td>\n",
       "      <td>18.0</td>\n",
       "      <td>NaN</td>\n",
       "      <td>NaN</td>\n",
       "    </tr>\n",
       "    <tr>\n",
       "      <th>0</th>\n",
       "      <td>first_affiliate_tracked</td>\n",
       "      <td>207386.0</td>\n",
       "      <td>97.16</td>\n",
       "      <td>6065.0</td>\n",
       "      <td>2.84</td>\n",
       "      <td>7.0</td>\n",
       "      <td>NaN</td>\n",
       "      <td>NaN</td>\n",
       "    </tr>\n",
       "    <tr>\n",
       "      <th>0</th>\n",
       "      <td>signup_app</td>\n",
       "      <td>213451.0</td>\n",
       "      <td>100.00</td>\n",
       "      <td>0.0</td>\n",
       "      <td>0.00</td>\n",
       "      <td>4.0</td>\n",
       "      <td>NaN</td>\n",
       "      <td>NaN</td>\n",
       "    </tr>\n",
       "    <tr>\n",
       "      <th>0</th>\n",
       "      <td>first_device_type</td>\n",
       "      <td>213451.0</td>\n",
       "      <td>100.00</td>\n",
       "      <td>0.0</td>\n",
       "      <td>0.00</td>\n",
       "      <td>9.0</td>\n",
       "      <td>NaN</td>\n",
       "      <td>NaN</td>\n",
       "    </tr>\n",
       "    <tr>\n",
       "      <th>0</th>\n",
       "      <td>first_browser</td>\n",
       "      <td>213451.0</td>\n",
       "      <td>100.00</td>\n",
       "      <td>0.0</td>\n",
       "      <td>0.00</td>\n",
       "      <td>52.0</td>\n",
       "      <td>NaN</td>\n",
       "      <td>NaN</td>\n",
       "    </tr>\n",
       "    <tr>\n",
       "      <th>0</th>\n",
       "      <td>country_destination</td>\n",
       "      <td>213451.0</td>\n",
       "      <td>100.00</td>\n",
       "      <td>0.0</td>\n",
       "      <td>0.00</td>\n",
       "      <td>12.0</td>\n",
       "      <td>NaN</td>\n",
       "      <td>NaN</td>\n",
       "    </tr>\n",
       "  </tbody>\n",
       "</table>\n",
       "</div>"
      ],
      "text/plain": [
       "                    column  count_notnull  perc_notnull  count_null  \\\n",
       "0                       id       213451.0        100.00         0.0   \n",
       "0     date_account_created       213451.0        100.00         0.0   \n",
       "0   timestamp_first_active       213451.0        100.00         0.0   \n",
       "0       date_first_booking        88908.0         41.65    124543.0   \n",
       "0                   gender       213451.0        100.00         0.0   \n",
       "0                      age       125461.0         58.78     87990.0   \n",
       "0            signup_method       213451.0        100.00         0.0   \n",
       "0              signup_flow       213451.0        100.00         0.0   \n",
       "0                 language       213451.0        100.00         0.0   \n",
       "0        affiliate_channel       213451.0        100.00         0.0   \n",
       "0       affiliate_provider       213451.0        100.00         0.0   \n",
       "0  first_affiliate_tracked       207386.0         97.16      6065.0   \n",
       "0               signup_app       213451.0        100.00         0.0   \n",
       "0        first_device_type       213451.0        100.00         0.0   \n",
       "0            first_browser       213451.0        100.00         0.0   \n",
       "0      country_destination       213451.0        100.00         0.0   \n",
       "\n",
       "   perc_null  count_unique          min          max  \n",
       "0       0.00      213451.0          NaN          NaN  \n",
       "0       0.00        1634.0          NaN          NaN  \n",
       "0       0.00      213451.0  2.00903e+13  2.01406e+13  \n",
       "0      58.35        1976.0          NaN          NaN  \n",
       "0       0.00           4.0          NaN          NaN  \n",
       "0      41.22         127.0            1         2014  \n",
       "0       0.00           3.0          NaN          NaN  \n",
       "0       0.00          17.0            0           25  \n",
       "0       0.00          25.0          NaN          NaN  \n",
       "0       0.00           8.0          NaN          NaN  \n",
       "0       0.00          18.0          NaN          NaN  \n",
       "0       2.84           7.0          NaN          NaN  \n",
       "0       0.00           4.0          NaN          NaN  \n",
       "0       0.00           9.0          NaN          NaN  \n",
       "0       0.00          52.0          NaN          NaN  \n",
       "0       0.00          12.0          NaN          NaN  "
      ]
     },
     "execution_count": 51,
     "metadata": {},
     "output_type": "execute_result"
    }
   ],
   "source": [
    "dq(train_users)"
   ]
  },
  {
   "cell_type": "code",
   "execution_count": 11,
   "metadata": {},
   "outputs": [
    {
     "data": {
      "text/html": [
       "<div>\n",
       "<style scoped>\n",
       "    .dataframe tbody tr th:only-of-type {\n",
       "        vertical-align: middle;\n",
       "    }\n",
       "\n",
       "    .dataframe tbody tr th {\n",
       "        vertical-align: top;\n",
       "    }\n",
       "\n",
       "    .dataframe thead th {\n",
       "        text-align: right;\n",
       "    }\n",
       "</style>\n",
       "<table border=\"1\" class=\"dataframe\">\n",
       "  <thead>\n",
       "    <tr style=\"text-align: right;\">\n",
       "      <th></th>\n",
       "      <th>column</th>\n",
       "      <th>count_notnull</th>\n",
       "      <th>perc_notnull</th>\n",
       "      <th>count_null</th>\n",
       "      <th>perc_null</th>\n",
       "      <th>count_unique</th>\n",
       "      <th>min</th>\n",
       "      <th>max</th>\n",
       "    </tr>\n",
       "  </thead>\n",
       "  <tbody>\n",
       "    <tr>\n",
       "      <th>0</th>\n",
       "      <td>age_bucket</td>\n",
       "      <td>420.0</td>\n",
       "      <td>100.0</td>\n",
       "      <td>0.0</td>\n",
       "      <td>0.0</td>\n",
       "      <td>21.0</td>\n",
       "      <td>NaN</td>\n",
       "      <td>NaN</td>\n",
       "    </tr>\n",
       "    <tr>\n",
       "      <th>0</th>\n",
       "      <td>country_destination</td>\n",
       "      <td>420.0</td>\n",
       "      <td>100.0</td>\n",
       "      <td>0.0</td>\n",
       "      <td>0.0</td>\n",
       "      <td>10.0</td>\n",
       "      <td>NaN</td>\n",
       "      <td>NaN</td>\n",
       "    </tr>\n",
       "    <tr>\n",
       "      <th>0</th>\n",
       "      <td>gender</td>\n",
       "      <td>420.0</td>\n",
       "      <td>100.0</td>\n",
       "      <td>0.0</td>\n",
       "      <td>0.0</td>\n",
       "      <td>2.0</td>\n",
       "      <td>NaN</td>\n",
       "      <td>NaN</td>\n",
       "    </tr>\n",
       "    <tr>\n",
       "      <th>0</th>\n",
       "      <td>population_in_thousands</td>\n",
       "      <td>420.0</td>\n",
       "      <td>100.0</td>\n",
       "      <td>0.0</td>\n",
       "      <td>0.0</td>\n",
       "      <td>381.0</td>\n",
       "      <td>0</td>\n",
       "      <td>11601</td>\n",
       "    </tr>\n",
       "    <tr>\n",
       "      <th>0</th>\n",
       "      <td>year</td>\n",
       "      <td>420.0</td>\n",
       "      <td>100.0</td>\n",
       "      <td>0.0</td>\n",
       "      <td>0.0</td>\n",
       "      <td>1.0</td>\n",
       "      <td>2015</td>\n",
       "      <td>2015</td>\n",
       "    </tr>\n",
       "  </tbody>\n",
       "</table>\n",
       "</div>"
      ],
      "text/plain": [
       "                    column  count_notnull  perc_notnull  count_null  \\\n",
       "0               age_bucket          420.0         100.0         0.0   \n",
       "0      country_destination          420.0         100.0         0.0   \n",
       "0                   gender          420.0         100.0         0.0   \n",
       "0  population_in_thousands          420.0         100.0         0.0   \n",
       "0                     year          420.0         100.0         0.0   \n",
       "\n",
       "   perc_null  count_unique   min    max  \n",
       "0        0.0          21.0   NaN    NaN  \n",
       "0        0.0          10.0   NaN    NaN  \n",
       "0        0.0           2.0   NaN    NaN  \n",
       "0        0.0         381.0     0  11601  \n",
       "0        0.0           1.0  2015   2015  "
      ]
     },
     "execution_count": 11,
     "metadata": {},
     "output_type": "execute_result"
    }
   ],
   "source": [
    "dq(age_gender_bkts)"
   ]
  },
  {
   "cell_type": "code",
   "execution_count": 12,
   "metadata": {},
   "outputs": [
    {
     "data": {
      "text/html": [
       "<div>\n",
       "<style scoped>\n",
       "    .dataframe tbody tr th:only-of-type {\n",
       "        vertical-align: middle;\n",
       "    }\n",
       "\n",
       "    .dataframe tbody tr th {\n",
       "        vertical-align: top;\n",
       "    }\n",
       "\n",
       "    .dataframe thead th {\n",
       "        text-align: right;\n",
       "    }\n",
       "</style>\n",
       "<table border=\"1\" class=\"dataframe\">\n",
       "  <thead>\n",
       "    <tr style=\"text-align: right;\">\n",
       "      <th></th>\n",
       "      <th>column</th>\n",
       "      <th>count_notnull</th>\n",
       "      <th>perc_notnull</th>\n",
       "      <th>count_null</th>\n",
       "      <th>perc_null</th>\n",
       "      <th>count_unique</th>\n",
       "      <th>min</th>\n",
       "      <th>max</th>\n",
       "    </tr>\n",
       "  </thead>\n",
       "  <tbody>\n",
       "    <tr>\n",
       "      <th>0</th>\n",
       "      <td>user_id</td>\n",
       "      <td>10533241.0</td>\n",
       "      <td>99.67</td>\n",
       "      <td>34496.0</td>\n",
       "      <td>0.33</td>\n",
       "      <td>135483.0</td>\n",
       "      <td>NaN</td>\n",
       "      <td>NaN</td>\n",
       "    </tr>\n",
       "    <tr>\n",
       "      <th>0</th>\n",
       "      <td>action</td>\n",
       "      <td>10488111.0</td>\n",
       "      <td>99.25</td>\n",
       "      <td>79626.0</td>\n",
       "      <td>0.75</td>\n",
       "      <td>359.0</td>\n",
       "      <td>NaN</td>\n",
       "      <td>NaN</td>\n",
       "    </tr>\n",
       "    <tr>\n",
       "      <th>0</th>\n",
       "      <td>action_type</td>\n",
       "      <td>9441533.0</td>\n",
       "      <td>89.34</td>\n",
       "      <td>1126204.0</td>\n",
       "      <td>10.66</td>\n",
       "      <td>10.0</td>\n",
       "      <td>NaN</td>\n",
       "      <td>NaN</td>\n",
       "    </tr>\n",
       "    <tr>\n",
       "      <th>0</th>\n",
       "      <td>action_detail</td>\n",
       "      <td>9441533.0</td>\n",
       "      <td>89.34</td>\n",
       "      <td>1126204.0</td>\n",
       "      <td>10.66</td>\n",
       "      <td>155.0</td>\n",
       "      <td>NaN</td>\n",
       "      <td>NaN</td>\n",
       "    </tr>\n",
       "    <tr>\n",
       "      <th>0</th>\n",
       "      <td>device_type</td>\n",
       "      <td>10567737.0</td>\n",
       "      <td>100.00</td>\n",
       "      <td>0.0</td>\n",
       "      <td>0.00</td>\n",
       "      <td>14.0</td>\n",
       "      <td>NaN</td>\n",
       "      <td>NaN</td>\n",
       "    </tr>\n",
       "    <tr>\n",
       "      <th>0</th>\n",
       "      <td>secs_elapsed</td>\n",
       "      <td>10431706.0</td>\n",
       "      <td>98.71</td>\n",
       "      <td>136031.0</td>\n",
       "      <td>1.29</td>\n",
       "      <td>337661.0</td>\n",
       "      <td>0</td>\n",
       "      <td>1.79998e+06</td>\n",
       "    </tr>\n",
       "  </tbody>\n",
       "</table>\n",
       "</div>"
      ],
      "text/plain": [
       "          column  count_notnull  perc_notnull  count_null  perc_null  \\\n",
       "0        user_id     10533241.0         99.67     34496.0       0.33   \n",
       "0         action     10488111.0         99.25     79626.0       0.75   \n",
       "0    action_type      9441533.0         89.34   1126204.0      10.66   \n",
       "0  action_detail      9441533.0         89.34   1126204.0      10.66   \n",
       "0    device_type     10567737.0        100.00         0.0       0.00   \n",
       "0   secs_elapsed     10431706.0         98.71    136031.0       1.29   \n",
       "\n",
       "   count_unique  min          max  \n",
       "0      135483.0  NaN          NaN  \n",
       "0         359.0  NaN          NaN  \n",
       "0          10.0  NaN          NaN  \n",
       "0         155.0  NaN          NaN  \n",
       "0          14.0  NaN          NaN  \n",
       "0      337661.0    0  1.79998e+06  "
      ]
     },
     "execution_count": 12,
     "metadata": {},
     "output_type": "execute_result"
    }
   ],
   "source": [
    "dq(sessions)"
   ]
  },
  {
   "cell_type": "code",
   "execution_count": 8,
   "metadata": {
    "ExecuteTime": {
     "end_time": "2020-04-18T21:59:01.037029Z",
     "start_time": "2020-04-18T21:59:01.027517Z"
    }
   },
   "outputs": [],
   "source": [
    "train_users['pop'] = 'train'\n",
    "test_users['pop'] = 'test'"
   ]
  },
  {
   "cell_type": "code",
   "execution_count": 9,
   "metadata": {
    "ExecuteTime": {
     "end_time": "2020-04-18T21:59:02.357663Z",
     "start_time": "2020-04-18T21:59:02.184832Z"
    }
   },
   "outputs": [],
   "source": [
    "data_all = pd.concat([train_users.drop(['country_destination'], axis=1)\n",
    "                      , test_users])"
   ]
  },
  {
   "cell_type": "markdown",
   "metadata": {},
   "source": [
    "# Train users data"
   ]
  },
  {
   "cell_type": "markdown",
   "metadata": {},
   "source": [
    "## Dates "
   ]
  },
  {
   "cell_type": "code",
   "execution_count": 10,
   "metadata": {
    "ExecuteTime": {
     "end_time": "2020-04-18T21:59:10.968427Z",
     "start_time": "2020-04-18T21:59:10.798755Z"
    }
   },
   "outputs": [],
   "source": [
    "train_users.date_account_created = pd.to_datetime(train_users.date_account_created)\n",
    "train_users.date_first_booking = pd.to_datetime(train_users.date_first_booking)\n",
    "train_users.timestamp_first_active = pd.to_datetime(train_users.timestamp_first_active)\n"
   ]
  },
  {
   "cell_type": "code",
   "execution_count": 11,
   "metadata": {
    "ExecuteTime": {
     "end_time": "2020-04-18T21:59:12.033495Z",
     "start_time": "2020-04-18T21:59:11.741086Z"
    }
   },
   "outputs": [
    {
     "data": {
      "text/plain": [
       "<matplotlib.axes._subplots.AxesSubplot at 0x1233f7c88>"
      ]
     },
     "execution_count": 11,
     "metadata": {},
     "output_type": "execute_result"
    },
    {
     "data": {
      "image/png": "[encoded data removed]",
      "text/plain": [
       "<Figure size 432x288 with 1 Axes>"
      ]
     },
     "metadata": {
      "needs_background": "light"
     },
     "output_type": "display_data"
    }
   ],
   "source": [
    "train_users.groupby('date_account_created').size().plot.line()"
   ]
  },
  {
   "cell_type": "code",
   "execution_count": 12,
   "metadata": {
    "ExecuteTime": {
     "end_time": "2020-04-18T21:59:12.281825Z",
     "start_time": "2020-04-18T21:59:12.124594Z"
    }
   },
   "outputs": [
    {
     "data": {
      "text/plain": [
       "<matplotlib.axes._subplots.AxesSubplot at 0x126d7b8d0>"
      ]
     },
     "execution_count": 12,
     "metadata": {},
     "output_type": "execute_result"
    },
    {
     "data": {
      "image/png": "[encoded data removed]",
      "text/plain": [
       "<Figure size 432x288 with 1 Axes>"
      ]
     },
     "metadata": {
      "needs_background": "light"
     },
     "output_type": "display_data"
    }
   ],
   "source": [
    "train_users.groupby('date_first_booking').size().plot.line()"
   ]
  },
  {
   "cell_type": "code",
   "execution_count": 15,
   "metadata": {
    "ExecuteTime": {
     "end_time": "2020-04-18T21:59:37.746552Z",
     "start_time": "2020-04-18T21:59:37.711851Z"
    }
   },
   "outputs": [],
   "source": [
    "train_users['diff_firstbooking_datecreated'] = (train_users.date_first_booking \n",
    "                                 - train_users.date_account_created).dt.days\n",
    "train_users['diff_firstbooking_firstactive'] = (train_users.date_first_booking \n",
    "                                 - pd.DatetimeIndex(train_users['timestamp_first_active']).normalize()).dt.days"
   ]
  },
  {
   "cell_type": "code",
   "execution_count": 1,
   "metadata": {},
   "outputs": [],
   "source": [
    "# 29 records show a first booking date before created date.."
   ]
  },
  {
   "cell_type": "code",
   "execution_count": 16,
   "metadata": {
    "ExecuteTime": {
     "end_time": "2020-04-18T21:59:40.536447Z",
     "start_time": "2020-04-18T21:59:40.524275Z"
    }
   },
   "outputs": [
    {
     "data": {
      "text/plain": [
       "(29, 19)"
      ]
     },
     "execution_count": 16,
     "metadata": {},
     "output_type": "execute_result"
    }
   ],
   "source": [
    "train_users[train_users.diff_firstbooking_datecreated<0].shape"
   ]
  },
  {
   "cell_type": "code",
   "execution_count": 17,
   "metadata": {
    "ExecuteTime": {
     "end_time": "2020-04-18T21:59:41.749762Z",
     "start_time": "2020-04-18T21:59:41.554481Z"
    }
   },
   "outputs": [
    {
     "data": {
      "text/plain": [
       "<matplotlib.axes._subplots.AxesSubplot at 0x126221780>"
      ]
     },
     "execution_count": 17,
     "metadata": {},
     "output_type": "execute_result"
    },
    {
     "data": {
      "image/png": "[encoded data removed]",
      "text/plain": [
       "<Figure size 432x288 with 1 Axes>"
      ]
     },
     "metadata": {
      "needs_background": "light"
     },
     "output_type": "display_data"
    }
   ],
   "source": [
    "train_users[train_users.diff_firstbooking_datecreated>0].groupby(['diff_firstbooking_datecreated']).size().plot.line()"
   ]
  },
  {
   "cell_type": "code",
   "execution_count": 18,
   "metadata": {
    "ExecuteTime": {
     "end_time": "2020-04-18T21:59:43.736841Z",
     "start_time": "2020-04-18T21:59:43.730114Z"
    }
   },
   "outputs": [
    {
     "data": {
      "text/plain": [
       "(0, 19)"
      ]
     },
     "execution_count": 18,
     "metadata": {},
     "output_type": "execute_result"
    }
   ],
   "source": [
    "train_users[train_users.diff_firstbooking_firstactive<0].shape"
   ]
  },
  {
   "cell_type": "code",
   "execution_count": 19,
   "metadata": {
    "ExecuteTime": {
     "end_time": "2020-04-18T21:59:44.340388Z",
     "start_time": "2020-04-18T21:59:44.134783Z"
    }
   },
   "outputs": [
    {
     "data": {
      "text/plain": [
       "(0, 1000)"
      ]
     },
     "execution_count": 19,
     "metadata": {},
     "output_type": "execute_result"
    },
    {
     "data": {
      "image/png": "[encoded data removed]",
      "text/plain": [
       "<Figure size 432x288 with 1 Axes>"
      ]
     },
     "metadata": {
      "needs_background": "light"
     },
     "output_type": "display_data"
    }
   ],
   "source": [
    "train_users[train_users.diff_firstbooking_firstactive>0].groupby(['diff_firstbooking_firstactive']).size().plot.line()\n",
    "plt.ylim(0,1000)"
   ]
  },
  {
   "cell_type": "code",
   "execution_count": 21,
   "metadata": {
    "ExecuteTime": {
     "end_time": "2020-04-18T21:59:53.539596Z",
     "start_time": "2020-04-18T21:59:53.531726Z"
    }
   },
   "outputs": [],
   "source": [
    "train_users.loc[train_users.diff_firstbooking_datecreated<0, 'diff_firstbooking_datecreated'] = -1"
   ]
  },
  {
   "cell_type": "markdown",
   "metadata": {},
   "source": [
    "29 users have a booking date before account created date"
   ]
  },
  {
   "cell_type": "code",
   "execution_count": 22,
   "metadata": {
    "ExecuteTime": {
     "end_time": "2020-04-18T21:59:57.171897Z",
     "start_time": "2020-04-18T21:59:57.166093Z"
    }
   },
   "outputs": [],
   "source": [
    "def feature_dates(df_inp):\n",
    "    if df_inp.date_account_created.dtype != np.datetime64:\n",
    "        df_inp.date_account_created = pd.to_datetime(df_inp.date_account_created)\n",
    "    if df_inp.date_first_booking.dtype != np.datetime64 :\n",
    "          df_inp.date_first_booking = pd.to_datetime(df_inp.date_first_booking)\n",
    "    if df_inp.timestamp_first_active.dtype != np.datetime64 :\n",
    "        df_inp.timestamp_first_active = pd.to_datetime(df_inp.timestamp_first_active,\n",
    "                                                           format=('%Y%m%d%H%M%S'))\n",
    "    df_tmp = df_inp[['id']].copy()\n",
    "    df_tmp['diff_firstbooking_datecreated'] = (df_inp.date_first_booking \n",
    "                                 - df_inp.date_account_created).dt.days\n",
    "    df_tmp['diff_firstbooking_firstactive'] = (df_inp.date_first_booking \n",
    "                                     - pd.DatetimeIndex(df_inp['timestamp_first_active']).normalize()).dt.days\n",
    "#     feature_list.append('diff_firstbooking_datecreated')\n",
    "#     feature_list.append('diff_firstbooking_firstactive')\n",
    "    return df_tmp"
   ]
  },
  {
   "cell_type": "code",
   "execution_count": 23,
   "metadata": {
    "ExecuteTime": {
     "end_time": "2020-04-18T21:59:58.205386Z",
     "start_time": "2020-04-18T21:59:58.202322Z"
    }
   },
   "outputs": [],
   "source": [
    "feature_dfs.update({'date': feature_dates})"
   ]
  },
  {
   "cell_type": "markdown",
   "metadata": {},
   "source": [
    "## Gender"
   ]
  },
  {
   "cell_type": "code",
   "execution_count": 24,
   "metadata": {
    "ExecuteTime": {
     "end_time": "2020-04-18T22:00:00.691007Z",
     "start_time": "2020-04-18T22:00:00.669576Z"
    }
   },
   "outputs": [
    {
     "data": {
      "text/plain": [
       "-unknown-    95688\n",
       "FEMALE       63041\n",
       "MALE         54440\n",
       "OTHER          282\n",
       "Name: gender, dtype: int64"
      ]
     },
     "execution_count": 24,
     "metadata": {},
     "output_type": "execute_result"
    }
   ],
   "source": [
    "train_users.gender.value_counts()"
   ]
  },
  {
   "cell_type": "code",
   "execution_count": 25,
   "metadata": {
    "ExecuteTime": {
     "end_time": "2020-04-18T22:00:02.167773Z",
     "start_time": "2020-04-18T22:00:02.143287Z"
    }
   },
   "outputs": [],
   "source": [
    "train_users.loc[train_users.gender=='-unknown-','gender']=np.nan"
   ]
  },
  {
   "cell_type": "code",
   "execution_count": 26,
   "metadata": {
    "ExecuteTime": {
     "end_time": "2020-04-18T22:00:02.877016Z",
     "start_time": "2020-04-18T22:00:02.855706Z"
    }
   },
   "outputs": [
    {
     "data": {
      "text/plain": [
       "FEMALE    63041\n",
       "MALE      54440\n",
       "OTHER       282\n",
       "Name: gender, dtype: int64"
      ]
     },
     "execution_count": 26,
     "metadata": {},
     "output_type": "execute_result"
    }
   ],
   "source": [
    "train_users.gender.value_counts()"
   ]
  },
  {
   "cell_type": "code",
   "execution_count": 27,
   "metadata": {
    "ExecuteTime": {
     "end_time": "2020-04-18T22:00:05.029796Z",
     "start_time": "2020-04-18T22:00:05.025034Z"
    }
   },
   "outputs": [],
   "source": [
    "def feature_gender(df_inp):\n",
    "    df_inp.loc[df_inp.gender=='-unknown-','gender']=np.nan\n",
    "    gender_dict = {'FEMALE': 1, 'MALE':0, 'OTHER':2, np.nan:-1}\n",
    "    df_tmp = df_inp[['id']].copy()\n",
    "    df_tmp['gender_feature'] = -1\n",
    "    df_tmp['gender_feature'] = df_inp['gender'].apply(lambda x: gender_dict[x])\n",
    "#     feature_list.append('gender_feature')\n",
    "    return df_tmp"
   ]
  },
  {
   "cell_type": "code",
   "execution_count": 28,
   "metadata": {
    "ExecuteTime": {
     "end_time": "2020-04-18T22:00:05.900063Z",
     "start_time": "2020-04-18T22:00:05.897145Z"
    }
   },
   "outputs": [],
   "source": [
    "feature_dfs.update({'gender': feature_gender})"
   ]
  },
  {
   "cell_type": "markdown",
   "metadata": {},
   "source": [
    "## Age "
   ]
  },
  {
   "cell_type": "code",
   "execution_count": 29,
   "metadata": {
    "ExecuteTime": {
     "end_time": "2020-04-18T22:00:08.071318Z",
     "start_time": "2020-04-18T22:00:08.050646Z"
    }
   },
   "outputs": [
    {
     "data": {
      "text/plain": [
       "count    125461.000000\n",
       "mean         49.668335\n",
       "std         155.666612\n",
       "min           1.000000\n",
       "25%          28.000000\n",
       "50%          34.000000\n",
       "75%          43.000000\n",
       "max        2014.000000\n",
       "Name: age, dtype: float64"
      ]
     },
     "execution_count": 29,
     "metadata": {},
     "output_type": "execute_result"
    }
   ],
   "source": [
    "train_users.age.describe()"
   ]
  },
  {
   "cell_type": "code",
   "execution_count": 30,
   "metadata": {
    "ExecuteTime": {
     "end_time": "2020-04-18T22:00:09.022944Z",
     "start_time": "2020-04-18T22:00:09.015157Z"
    }
   },
   "outputs": [
    {
     "data": {
      "text/plain": [
       "(2345, 19)"
      ]
     },
     "execution_count": 30,
     "metadata": {},
     "output_type": "execute_result"
    }
   ],
   "source": [
    "train_users[train_users.age>100].shape"
   ]
  },
  {
   "cell_type": "code",
   "execution_count": 31,
   "metadata": {
    "ExecuteTime": {
     "end_time": "2020-04-18T22:00:10.792438Z",
     "start_time": "2020-04-18T22:00:09.562277Z"
    }
   },
   "outputs": [
    {
     "data": {
      "image/png": "[encoded data removed]",
      "text/plain": [
       "<Figure size 1440x720 with 1 Axes>"
      ]
     },
     "metadata": {
      "needs_background": "light"
     },
     "output_type": "display_data"
    }
   ],
   "source": [
    "plt.figure(figsize=(20,10))\n",
    "plt.xticks(rotation=90) \n",
    "sns.countplot(train_users.age)\n",
    "plt.show()"
   ]
  },
  {
   "cell_type": "raw",
   "metadata": {},
   "source": [
    "Lets assume people under 10 or over 100 don't use Airbnb"
   ]
  },
  {
   "cell_type": "code",
   "execution_count": 32,
   "metadata": {
    "ExecuteTime": {
     "end_time": "2020-04-18T22:00:16.312192Z",
     "start_time": "2020-04-18T22:00:16.300897Z"
    }
   },
   "outputs": [],
   "source": [
    "train_users.loc[train_users.age>100,'age']=np.nan\n",
    "train_users.loc[train_users.age<10,'age']=np.nan"
   ]
  },
  {
   "cell_type": "code",
   "execution_count": 33,
   "metadata": {
    "ExecuteTime": {
     "end_time": "2020-04-18T22:00:16.973227Z",
     "start_time": "2020-04-18T22:00:16.954914Z"
    }
   },
   "outputs": [
    {
     "data": {
      "text/plain": [
       "count    123059.000000\n",
       "mean         36.559211\n",
       "std          11.690611\n",
       "min          15.000000\n",
       "25%          28.000000\n",
       "50%          34.000000\n",
       "75%          42.000000\n",
       "max         100.000000\n",
       "Name: age, dtype: float64"
      ]
     },
     "execution_count": 33,
     "metadata": {},
     "output_type": "execute_result"
    }
   ],
   "source": [
    "train_users.age.describe()"
   ]
  },
  {
   "cell_type": "code",
   "execution_count": 34,
   "metadata": {
    "ExecuteTime": {
     "end_time": "2020-04-18T22:00:19.642743Z",
     "start_time": "2020-04-18T22:00:18.696507Z"
    }
   },
   "outputs": [
    {
     "data": {
      "image/png": "[encoded data removed]",
      "text/plain": [
       "<Figure size 1440x720 with 1 Axes>"
      ]
     },
     "metadata": {
      "needs_background": "light"
     },
     "output_type": "display_data"
    }
   ],
   "source": [
    "plt.figure(figsize=(20,10))\n",
    "plt.xticks(rotation=90) \n",
    "sns.countplot(train_users.age)\n",
    "plt.show()"
   ]
  },
  {
   "cell_type": "code",
   "execution_count": 35,
   "metadata": {
    "ExecuteTime": {
     "end_time": "2020-04-18T22:00:24.552293Z",
     "start_time": "2020-04-18T22:00:24.548610Z"
    }
   },
   "outputs": [],
   "source": [
    "def feature_age(df_inp):\n",
    "    df_inp.loc[df_inp.age>100,'age']=np.nan\n",
    "    df_inp.loc[df_inp.age<10,'age']=np.nan\n",
    "    return df_inp[['id','age']]"
   ]
  },
  {
   "cell_type": "code",
   "execution_count": 36,
   "metadata": {
    "ExecuteTime": {
     "end_time": "2020-04-18T22:00:24.853347Z",
     "start_time": "2020-04-18T22:00:24.848057Z"
    }
   },
   "outputs": [],
   "source": [
    "feature_dfs.update({'age': feature_age})"
   ]
  },
  {
   "cell_type": "markdown",
   "metadata": {},
   "source": [
    "## machine details "
   ]
  },
  {
   "cell_type": "code",
   "execution_count": 37,
   "metadata": {
    "ExecuteTime": {
     "end_time": "2020-04-18T22:00:26.012306Z",
     "start_time": "2020-04-18T22:00:25.994342Z"
    }
   },
   "outputs": [
    {
     "data": {
      "text/html": [
       "<div>\n",
       "<style scoped>\n",
       "    .dataframe tbody tr th:only-of-type {\n",
       "        vertical-align: middle;\n",
       "    }\n",
       "\n",
       "    .dataframe tbody tr th {\n",
       "        vertical-align: top;\n",
       "    }\n",
       "\n",
       "    .dataframe thead th {\n",
       "        text-align: right;\n",
       "    }\n",
       "</style>\n",
       "<table border=\"1\" class=\"dataframe\">\n",
       "  <thead>\n",
       "    <tr style=\"text-align: right;\">\n",
       "      <th></th>\n",
       "      <th>id</th>\n",
       "      <th>date_account_created</th>\n",
       "      <th>timestamp_first_active</th>\n",
       "      <th>date_first_booking</th>\n",
       "      <th>gender</th>\n",
       "      <th>age</th>\n",
       "      <th>signup_method</th>\n",
       "      <th>signup_flow</th>\n",
       "      <th>language</th>\n",
       "      <th>affiliate_channel</th>\n",
       "      <th>affiliate_provider</th>\n",
       "      <th>first_affiliate_tracked</th>\n",
       "      <th>signup_app</th>\n",
       "      <th>first_device_type</th>\n",
       "      <th>first_browser</th>\n",
       "      <th>country_destination</th>\n",
       "      <th>pop</th>\n",
       "      <th>diff_firstbooking_datecreated</th>\n",
       "      <th>diff_firstbooking_firstactive</th>\n",
       "    </tr>\n",
       "  </thead>\n",
       "  <tbody>\n",
       "    <tr>\n",
       "      <th>0</th>\n",
       "      <td>gxn3p5htnn</td>\n",
       "      <td>2010-06-28</td>\n",
       "      <td>1970-01-01 05:34:50.319043255</td>\n",
       "      <td>NaT</td>\n",
       "      <td>NaN</td>\n",
       "      <td>NaN</td>\n",
       "      <td>facebook</td>\n",
       "      <td>0</td>\n",
       "      <td>en</td>\n",
       "      <td>direct</td>\n",
       "      <td>direct</td>\n",
       "      <td>untracked</td>\n",
       "      <td>Web</td>\n",
       "      <td>Mac Desktop</td>\n",
       "      <td>Chrome</td>\n",
       "      <td>NDF</td>\n",
       "      <td>train</td>\n",
       "      <td>NaN</td>\n",
       "      <td>NaN</td>\n",
       "    </tr>\n",
       "    <tr>\n",
       "      <th>1</th>\n",
       "      <td>820tgsjxq7</td>\n",
       "      <td>2011-05-25</td>\n",
       "      <td>1970-01-01 05:34:50.523174809</td>\n",
       "      <td>NaT</td>\n",
       "      <td>MALE</td>\n",
       "      <td>38.0</td>\n",
       "      <td>facebook</td>\n",
       "      <td>0</td>\n",
       "      <td>en</td>\n",
       "      <td>seo</td>\n",
       "      <td>google</td>\n",
       "      <td>untracked</td>\n",
       "      <td>Web</td>\n",
       "      <td>Mac Desktop</td>\n",
       "      <td>Chrome</td>\n",
       "      <td>NDF</td>\n",
       "      <td>train</td>\n",
       "      <td>NaN</td>\n",
       "      <td>NaN</td>\n",
       "    </tr>\n",
       "    <tr>\n",
       "      <th>2</th>\n",
       "      <td>4ft3gnwmtx</td>\n",
       "      <td>2010-09-28</td>\n",
       "      <td>1970-01-01 05:34:50.609231247</td>\n",
       "      <td>2010-08-02</td>\n",
       "      <td>FEMALE</td>\n",
       "      <td>56.0</td>\n",
       "      <td>basic</td>\n",
       "      <td>3</td>\n",
       "      <td>en</td>\n",
       "      <td>direct</td>\n",
       "      <td>direct</td>\n",
       "      <td>untracked</td>\n",
       "      <td>Web</td>\n",
       "      <td>Windows Desktop</td>\n",
       "      <td>IE</td>\n",
       "      <td>US</td>\n",
       "      <td>train</td>\n",
       "      <td>-1.0</td>\n",
       "      <td>14823.0</td>\n",
       "    </tr>\n",
       "    <tr>\n",
       "      <th>3</th>\n",
       "      <td>bjjt8pjhuk</td>\n",
       "      <td>2011-12-05</td>\n",
       "      <td>1970-01-01 05:34:51.031060129</td>\n",
       "      <td>2012-09-08</td>\n",
       "      <td>FEMALE</td>\n",
       "      <td>42.0</td>\n",
       "      <td>facebook</td>\n",
       "      <td>0</td>\n",
       "      <td>en</td>\n",
       "      <td>direct</td>\n",
       "      <td>direct</td>\n",
       "      <td>untracked</td>\n",
       "      <td>Web</td>\n",
       "      <td>Mac Desktop</td>\n",
       "      <td>Firefox</td>\n",
       "      <td>other</td>\n",
       "      <td>train</td>\n",
       "      <td>278.0</td>\n",
       "      <td>15591.0</td>\n",
       "    </tr>\n",
       "    <tr>\n",
       "      <th>4</th>\n",
       "      <td>87mebub9p4</td>\n",
       "      <td>2010-09-14</td>\n",
       "      <td>1970-01-01 05:34:51.208061105</td>\n",
       "      <td>2010-02-18</td>\n",
       "      <td>NaN</td>\n",
       "      <td>41.0</td>\n",
       "      <td>basic</td>\n",
       "      <td>0</td>\n",
       "      <td>en</td>\n",
       "      <td>direct</td>\n",
       "      <td>direct</td>\n",
       "      <td>untracked</td>\n",
       "      <td>Web</td>\n",
       "      <td>Mac Desktop</td>\n",
       "      <td>Chrome</td>\n",
       "      <td>US</td>\n",
       "      <td>train</td>\n",
       "      <td>-1.0</td>\n",
       "      <td>14658.0</td>\n",
       "    </tr>\n",
       "  </tbody>\n",
       "</table>\n",
       "</div>"
      ],
      "text/plain": [
       "           id date_account_created        timestamp_first_active  \\\n",
       "0  gxn3p5htnn           2010-06-28 1970-01-01 05:34:50.319043255   \n",
       "1  820tgsjxq7           2011-05-25 1970-01-01 05:34:50.523174809   \n",
       "2  4ft3gnwmtx           2010-09-28 1970-01-01 05:34:50.609231247   \n",
       "3  bjjt8pjhuk           2011-12-05 1970-01-01 05:34:51.031060129   \n",
       "4  87mebub9p4           2010-09-14 1970-01-01 05:34:51.208061105   \n",
       "\n",
       "  date_first_booking  gender   age signup_method  signup_flow language  \\\n",
       "0                NaT     NaN   NaN      facebook            0       en   \n",
       "1                NaT    MALE  38.0      facebook            0       en   \n",
       "2         2010-08-02  FEMALE  56.0         basic            3       en   \n",
       "3         2012-09-08  FEMALE  42.0      facebook            0       en   \n",
       "4         2010-02-18     NaN  41.0         basic            0       en   \n",
       "\n",
       "  affiliate_channel affiliate_provider first_affiliate_tracked signup_app  \\\n",
       "0            direct             direct               untracked        Web   \n",
       "1               seo             google               untracked        Web   \n",
       "2            direct             direct               untracked        Web   \n",
       "3            direct             direct               untracked        Web   \n",
       "4            direct             direct               untracked        Web   \n",
       "\n",
       "  first_device_type first_browser country_destination    pop  \\\n",
       "0       Mac Desktop        Chrome                 NDF  train   \n",
       "1       Mac Desktop        Chrome                 NDF  train   \n",
       "2   Windows Desktop            IE                  US  train   \n",
       "3       Mac Desktop       Firefox               other  train   \n",
       "4       Mac Desktop        Chrome                  US  train   \n",
       "\n",
       "   diff_firstbooking_datecreated  diff_firstbooking_firstactive  \n",
       "0                            NaN                            NaN  \n",
       "1                            NaN                            NaN  \n",
       "2                           -1.0                        14823.0  \n",
       "3                          278.0                        15591.0  \n",
       "4                           -1.0                        14658.0  "
      ]
     },
     "execution_count": 37,
     "metadata": {},
     "output_type": "execute_result"
    }
   ],
   "source": [
    "train_users.head()"
   ]
  },
  {
   "cell_type": "code",
   "execution_count": 38,
   "metadata": {
    "ExecuteTime": {
     "end_time": "2020-04-18T22:00:28.171064Z",
     "start_time": "2020-04-18T22:00:27.525949Z"
    }
   },
   "outputs": [
    {
     "data": {
      "text/plain": [
       "<matplotlib.axes._subplots.AxesSubplot at 0x1248f69e8>"
      ]
     },
     "execution_count": 38,
     "metadata": {},
     "output_type": "execute_result"
    },
    {
     "data": {
      "image/png": "[encoded data removed]",
      "text/plain": [
       "<Figure size 432x288 with 1 Axes>"
      ]
     },
     "metadata": {
      "needs_background": "light"
     },
     "output_type": "display_data"
    }
   ],
   "source": [
    "train_users.signup_method.value_counts(normalize=True, dropna=False).plot(kind='bar')"
   ]
  },
  {
   "cell_type": "code",
   "execution_count": 39,
   "metadata": {
    "ExecuteTime": {
     "end_time": "2020-04-18T22:00:29.878761Z",
     "start_time": "2020-04-18T22:00:28.173429Z"
    }
   },
   "outputs": [
    {
     "data": {
      "image/png": "[encoded data removed]",
      "text/plain": [
       "<Figure size 444.875x360 with 1 Axes>"
      ]
     },
     "metadata": {
      "needs_background": "light"
     },
     "output_type": "display_data"
    }
   ],
   "source": [
    "# (train_users.groupby(['country_destination','signup_method']).size())\n",
    "sns.catplot(data=train_users,kind='count',x='country_destination',hue='signup_method')\n",
    "plt.title('Signup methos for different countries')\n",
    "plt.show()"
   ]
  },
  {
   "cell_type": "code",
   "execution_count": 41,
   "metadata": {
    "ExecuteTime": {
     "end_time": "2020-04-18T22:00:42.837028Z",
     "start_time": "2020-04-18T22:00:42.651131Z"
    }
   },
   "outputs": [
    {
     "data": {
      "text/plain": [
       "<matplotlib.axes._subplots.AxesSubplot at 0x12489d208>"
      ]
     },
     "execution_count": 41,
     "metadata": {},
     "output_type": "execute_result"
    },
    {
     "data": {
      "image/png": "[encoded data removed]",
      "text/plain": [
       "<Figure size 432x288 with 1 Axes>"
      ]
     },
     "metadata": {
      "needs_background": "light"
     },
     "output_type": "display_data"
    }
   ],
   "source": [
    "train_users.groupby(['country_destination','signup_method']).size().plot()"
   ]
  },
  {
   "cell_type": "code",
   "execution_count": 42,
   "metadata": {
    "ExecuteTime": {
     "end_time": "2020-04-18T22:01:01.982839Z",
     "start_time": "2020-04-18T22:01:01.977227Z"
    },
    "scrolled": true
   },
   "outputs": [],
   "source": [
    "def feature_signup_method(df_inp):\n",
    "    df_tmp = pd.concat([pd.get_dummies(df_inp.signup_method), df_inp[['id']]], axis=1)\n",
    "    df_tmp.columns = ['signup_method_'+ x for x in df_tmp.columns if x!='id']+['id']\n",
    "    return df_tmp"
   ]
  },
  {
   "cell_type": "code",
   "execution_count": 43,
   "metadata": {
    "ExecuteTime": {
     "end_time": "2020-04-18T22:01:02.432553Z",
     "start_time": "2020-04-18T22:01:02.429064Z"
    }
   },
   "outputs": [],
   "source": [
    "feature_dfs.update({'signup_method': feature_signup_method})"
   ]
  },
  {
   "cell_type": "code",
   "execution_count": 44,
   "metadata": {
    "ExecuteTime": {
     "end_time": "2020-04-18T22:01:03.737095Z",
     "start_time": "2020-04-18T22:01:03.714197Z"
    }
   },
   "outputs": [],
   "source": [
    "tmp = feature_signup_method(train_users)"
   ]
  },
  {
   "cell_type": "code",
   "execution_count": 45,
   "metadata": {
    "ExecuteTime": {
     "end_time": "2020-04-18T22:01:04.640147Z",
     "start_time": "2020-04-18T22:01:04.413334Z"
    },
    "scrolled": false
   },
   "outputs": [
    {
     "data": {
      "text/plain": [
       "<matplotlib.axes._subplots.AxesSubplot at 0x1249609b0>"
      ]
     },
     "execution_count": 45,
     "metadata": {},
     "output_type": "execute_result"
    },
    {
     "data": {
      "image/png": "[encoded data removed]",
      "text/plain": [
       "<Figure size 432x288 with 1 Axes>"
      ]
     },
     "metadata": {
      "needs_background": "light"
     },
     "output_type": "display_data"
    }
   ],
   "source": [
    "train_users.signup_flow.value_counts(normalize=True).plot(kind='bar')"
   ]
  },
  {
   "cell_type": "code",
   "execution_count": 46,
   "metadata": {
    "ExecuteTime": {
     "end_time": "2020-04-18T22:01:09.002985Z",
     "start_time": "2020-04-18T22:01:08.832044Z"
    }
   },
   "outputs": [
    {
     "data": {
      "text/plain": [
       "<matplotlib.axes._subplots.AxesSubplot at 0x124791128>"
      ]
     },
     "execution_count": 46,
     "metadata": {},
     "output_type": "execute_result"
    },
    {
     "data": {
      "image/png": "[encoded data removed]",
      "text/plain": [
       "<Figure size 432x288 with 1 Axes>"
      ]
     },
     "metadata": {
      "needs_background": "light"
     },
     "output_type": "display_data"
    }
   ],
   "source": [
    "train_users.signup_app.value_counts(normalize=True, dropna=False).plot(kind='bar')"
   ]
  },
  {
   "cell_type": "code",
   "execution_count": 47,
   "metadata": {
    "ExecuteTime": {
     "end_time": "2020-04-18T22:01:12.115538Z",
     "start_time": "2020-04-18T22:01:10.504304Z"
    }
   },
   "outputs": [
    {
     "data": {
      "image/png": "[encoded data removed]",
      "text/plain": [
       "<Figure size 435x360 with 1 Axes>"
      ]
     },
     "metadata": {
      "needs_background": "light"
     },
     "output_type": "display_data"
    }
   ],
   "source": [
    "sns.catplot(data=train_users,kind='count',x='country_destination',hue='signup_app')\n",
    "plt.title('Signup applications for different countries')\n",
    "plt.show()"
   ]
  },
  {
   "cell_type": "code",
   "execution_count": 48,
   "metadata": {
    "ExecuteTime": {
     "end_time": "2020-04-18T22:01:16.123018Z",
     "start_time": "2020-04-18T22:01:16.118156Z"
    }
   },
   "outputs": [],
   "source": [
    "def feature_signup_app(df_inp):\n",
    "    df_tmp = pd.concat([pd.get_dummies(df_inp.signup_app), df_inp[['id']]], axis=1)\n",
    "    df_tmp.columns = ['signup_app_'+ x for x in df_tmp.columns if x!='id']+['id']\n",
    "    return df_tmp"
   ]
  },
  {
   "cell_type": "code",
   "execution_count": 49,
   "metadata": {
    "ExecuteTime": {
     "end_time": "2020-04-18T22:01:16.385645Z",
     "start_time": "2020-04-18T22:01:16.382820Z"
    }
   },
   "outputs": [],
   "source": [
    "feature_dfs.update({'signup_app': feature_signup_app})"
   ]
  },
  {
   "cell_type": "code",
   "execution_count": 50,
   "metadata": {
    "ExecuteTime": {
     "end_time": "2020-04-18T22:01:17.798264Z",
     "start_time": "2020-04-18T22:01:17.575092Z"
    }
   },
   "outputs": [
    {
     "data": {
      "text/plain": [
       "<matplotlib.axes._subplots.AxesSubplot at 0x12499de10>"
      ]
     },
     "execution_count": 50,
     "metadata": {},
     "output_type": "execute_result"
    },
    {
     "data": {
      "image/png": "[encoded data removed]",
      "text/plain": [
       "<Figure size 432x288 with 1 Axes>"
      ]
     },
     "metadata": {
      "needs_background": "light"
     },
     "output_type": "display_data"
    }
   ],
   "source": [
    "train_users.first_device_type.value_counts(normalize=True).plot(kind='bar')"
   ]
  },
  {
   "cell_type": "code",
   "execution_count": 51,
   "metadata": {
    "ExecuteTime": {
     "end_time": "2020-04-18T22:01:21.239328Z",
     "start_time": "2020-04-18T22:01:19.425535Z"
    }
   },
   "outputs": [
    {
     "data": {
      "image/png": "[encoded data removed]",
      "text/plain": [
       "<Figure size 1080x360 with 1 Axes>"
      ]
     },
     "metadata": {
      "needs_background": "light"
     },
     "output_type": "display_data"
    }
   ],
   "source": [
    "a4_dims = (15, 8.27)\n",
    "sns.catplot(data=train_users,kind='count',x='country_destination',hue='first_device_type').fig.set_figwidth(15)\n",
    "plt.title('first_device_type for different countries')\n",
    "plt.show()"
   ]
  },
  {
   "cell_type": "code",
   "execution_count": 52,
   "metadata": {
    "ExecuteTime": {
     "end_time": "2020-04-18T22:01:40.906346Z",
     "start_time": "2020-04-18T22:01:40.902399Z"
    }
   },
   "outputs": [],
   "source": [
    "def feature_first_device_type(df_inp):\n",
    "    df_tmp = pd.concat([pd.get_dummies(df_inp.first_device_type), df_inp[['id']]], axis=1)\n",
    "    df_tmp.columns = ['first_device_type_'+ x for x in df_tmp.columns if x!='id']+['id']\n",
    "    return df_tmp"
   ]
  },
  {
   "cell_type": "code",
   "execution_count": 53,
   "metadata": {
    "ExecuteTime": {
     "end_time": "2020-04-18T22:01:41.716961Z",
     "start_time": "2020-04-18T22:01:41.714175Z"
    }
   },
   "outputs": [],
   "source": [
    "feature_dfs.update({'first_device_type': feature_first_device_type})"
   ]
  },
  {
   "cell_type": "code",
   "execution_count": 54,
   "metadata": {
    "ExecuteTime": {
     "end_time": "2020-04-18T22:01:43.016097Z",
     "start_time": "2020-04-18T22:01:42.976688Z"
    },
    "scrolled": true
   },
   "outputs": [],
   "source": [
    "browser_list = list(\n",
    "    train_users.first_browser.value_counts()\n",
    "            [train_users.first_browser.value_counts().values>100]\n",
    "                .index)"
   ]
  },
  {
   "cell_type": "code",
   "execution_count": null,
   "metadata": {},
   "outputs": [],
   "source": []
  },
  {
   "cell_type": "code",
   "execution_count": 49,
   "metadata": {
    "scrolled": true
   },
   "outputs": [
    {
     "data": {
      "text/html": [
       "<div>\n",
       "<style scoped>\n",
       "    .dataframe tbody tr th:only-of-type {\n",
       "        vertical-align: middle;\n",
       "    }\n",
       "\n",
       "    .dataframe tbody tr th {\n",
       "        vertical-align: top;\n",
       "    }\n",
       "\n",
       "    .dataframe thead th {\n",
       "        text-align: right;\n",
       "    }\n",
       "</style>\n",
       "<table border=\"1\" class=\"dataframe\">\n",
       "  <thead>\n",
       "    <tr style=\"text-align: right;\">\n",
       "      <th>country_destination</th>\n",
       "      <th>AU</th>\n",
       "      <th>CA</th>\n",
       "      <th>DE</th>\n",
       "      <th>ES</th>\n",
       "      <th>FR</th>\n",
       "      <th>GB</th>\n",
       "      <th>IT</th>\n",
       "      <th>NDF</th>\n",
       "      <th>NL</th>\n",
       "      <th>PT</th>\n",
       "      <th>US</th>\n",
       "      <th>other</th>\n",
       "    </tr>\n",
       "    <tr>\n",
       "      <th>first_browser</th>\n",
       "      <th></th>\n",
       "      <th></th>\n",
       "      <th></th>\n",
       "      <th></th>\n",
       "      <th></th>\n",
       "      <th></th>\n",
       "      <th></th>\n",
       "      <th></th>\n",
       "      <th></th>\n",
       "      <th></th>\n",
       "      <th></th>\n",
       "      <th></th>\n",
       "    </tr>\n",
       "  </thead>\n",
       "  <tbody>\n",
       "    <tr>\n",
       "      <th>-unknown-</th>\n",
       "      <td>39</td>\n",
       "      <td>98</td>\n",
       "      <td>76</td>\n",
       "      <td>158</td>\n",
       "      <td>358</td>\n",
       "      <td>160</td>\n",
       "      <td>190</td>\n",
       "      <td>19648</td>\n",
       "      <td>56</td>\n",
       "      <td>17</td>\n",
       "      <td>5628</td>\n",
       "      <td>838</td>\n",
       "    </tr>\n",
       "    <tr>\n",
       "      <th>AOL Explorer</th>\n",
       "      <td>0</td>\n",
       "      <td>1</td>\n",
       "      <td>0</td>\n",
       "      <td>1</td>\n",
       "      <td>6</td>\n",
       "      <td>1</td>\n",
       "      <td>3</td>\n",
       "      <td>182</td>\n",
       "      <td>0</td>\n",
       "      <td>0</td>\n",
       "      <td>46</td>\n",
       "      <td>5</td>\n",
       "    </tr>\n",
       "    <tr>\n",
       "      <th>Android Browser</th>\n",
       "      <td>1</td>\n",
       "      <td>3</td>\n",
       "      <td>2</td>\n",
       "      <td>5</td>\n",
       "      <td>10</td>\n",
       "      <td>2</td>\n",
       "      <td>4</td>\n",
       "      <td>571</td>\n",
       "      <td>2</td>\n",
       "      <td>0</td>\n",
       "      <td>212</td>\n",
       "      <td>39</td>\n",
       "    </tr>\n",
       "    <tr>\n",
       "      <th>Apple Mail</th>\n",
       "      <td>0</td>\n",
       "      <td>0</td>\n",
       "      <td>1</td>\n",
       "      <td>0</td>\n",
       "      <td>0</td>\n",
       "      <td>0</td>\n",
       "      <td>1</td>\n",
       "      <td>21</td>\n",
       "      <td>0</td>\n",
       "      <td>0</td>\n",
       "      <td>12</td>\n",
       "      <td>1</td>\n",
       "    </tr>\n",
       "    <tr>\n",
       "      <th>Arora</th>\n",
       "      <td>0</td>\n",
       "      <td>0</td>\n",
       "      <td>0</td>\n",
       "      <td>0</td>\n",
       "      <td>0</td>\n",
       "      <td>0</td>\n",
       "      <td>0</td>\n",
       "      <td>1</td>\n",
       "      <td>0</td>\n",
       "      <td>0</td>\n",
       "      <td>0</td>\n",
       "      <td>0</td>\n",
       "    </tr>\n",
       "    <tr>\n",
       "      <th>Avant Browser</th>\n",
       "      <td>0</td>\n",
       "      <td>0</td>\n",
       "      <td>0</td>\n",
       "      <td>0</td>\n",
       "      <td>0</td>\n",
       "      <td>0</td>\n",
       "      <td>0</td>\n",
       "      <td>3</td>\n",
       "      <td>0</td>\n",
       "      <td>0</td>\n",
       "      <td>0</td>\n",
       "      <td>1</td>\n",
       "    </tr>\n",
       "    <tr>\n",
       "      <th>BlackBerry Browser</th>\n",
       "      <td>1</td>\n",
       "      <td>0</td>\n",
       "      <td>0</td>\n",
       "      <td>0</td>\n",
       "      <td>2</td>\n",
       "      <td>0</td>\n",
       "      <td>2</td>\n",
       "      <td>31</td>\n",
       "      <td>0</td>\n",
       "      <td>0</td>\n",
       "      <td>15</td>\n",
       "      <td>2</td>\n",
       "    </tr>\n",
       "    <tr>\n",
       "      <th>Camino</th>\n",
       "      <td>0</td>\n",
       "      <td>0</td>\n",
       "      <td>0</td>\n",
       "      <td>0</td>\n",
       "      <td>0</td>\n",
       "      <td>0</td>\n",
       "      <td>0</td>\n",
       "      <td>2</td>\n",
       "      <td>0</td>\n",
       "      <td>0</td>\n",
       "      <td>7</td>\n",
       "      <td>0</td>\n",
       "    </tr>\n",
       "    <tr>\n",
       "      <th>Chrome</th>\n",
       "      <td>154</td>\n",
       "      <td>486</td>\n",
       "      <td>361</td>\n",
       "      <td>755</td>\n",
       "      <td>1535</td>\n",
       "      <td>742</td>\n",
       "      <td>897</td>\n",
       "      <td>33968</td>\n",
       "      <td>260</td>\n",
       "      <td>73</td>\n",
       "      <td>21061</td>\n",
       "      <td>3553</td>\n",
       "    </tr>\n",
       "    <tr>\n",
       "      <th>Chrome Mobile</th>\n",
       "      <td>2</td>\n",
       "      <td>5</td>\n",
       "      <td>5</td>\n",
       "      <td>5</td>\n",
       "      <td>14</td>\n",
       "      <td>9</td>\n",
       "      <td>10</td>\n",
       "      <td>862</td>\n",
       "      <td>6</td>\n",
       "      <td>0</td>\n",
       "      <td>304</td>\n",
       "      <td>48</td>\n",
       "    </tr>\n",
       "    <tr>\n",
       "      <th>Chromium</th>\n",
       "      <td>0</td>\n",
       "      <td>3</td>\n",
       "      <td>1</td>\n",
       "      <td>1</td>\n",
       "      <td>0</td>\n",
       "      <td>0</td>\n",
       "      <td>1</td>\n",
       "      <td>30</td>\n",
       "      <td>0</td>\n",
       "      <td>0</td>\n",
       "      <td>32</td>\n",
       "      <td>5</td>\n",
       "    </tr>\n",
       "    <tr>\n",
       "      <th>CometBird</th>\n",
       "      <td>0</td>\n",
       "      <td>0</td>\n",
       "      <td>0</td>\n",
       "      <td>0</td>\n",
       "      <td>0</td>\n",
       "      <td>0</td>\n",
       "      <td>0</td>\n",
       "      <td>10</td>\n",
       "      <td>0</td>\n",
       "      <td>0</td>\n",
       "      <td>1</td>\n",
       "      <td>0</td>\n",
       "    </tr>\n",
       "    <tr>\n",
       "      <th>Comodo Dragon</th>\n",
       "      <td>0</td>\n",
       "      <td>0</td>\n",
       "      <td>0</td>\n",
       "      <td>0</td>\n",
       "      <td>0</td>\n",
       "      <td>0</td>\n",
       "      <td>0</td>\n",
       "      <td>2</td>\n",
       "      <td>0</td>\n",
       "      <td>0</td>\n",
       "      <td>0</td>\n",
       "      <td>0</td>\n",
       "    </tr>\n",
       "    <tr>\n",
       "      <th>Conkeror</th>\n",
       "      <td>0</td>\n",
       "      <td>0</td>\n",
       "      <td>0</td>\n",
       "      <td>0</td>\n",
       "      <td>0</td>\n",
       "      <td>0</td>\n",
       "      <td>0</td>\n",
       "      <td>1</td>\n",
       "      <td>0</td>\n",
       "      <td>0</td>\n",
       "      <td>0</td>\n",
       "      <td>0</td>\n",
       "    </tr>\n",
       "    <tr>\n",
       "      <th>CoolNovo</th>\n",
       "      <td>0</td>\n",
       "      <td>1</td>\n",
       "      <td>0</td>\n",
       "      <td>0</td>\n",
       "      <td>0</td>\n",
       "      <td>0</td>\n",
       "      <td>0</td>\n",
       "      <td>3</td>\n",
       "      <td>0</td>\n",
       "      <td>0</td>\n",
       "      <td>2</td>\n",
       "      <td>0</td>\n",
       "    </tr>\n",
       "    <tr>\n",
       "      <th>Crazy Browser</th>\n",
       "      <td>0</td>\n",
       "      <td>0</td>\n",
       "      <td>0</td>\n",
       "      <td>0</td>\n",
       "      <td>0</td>\n",
       "      <td>0</td>\n",
       "      <td>0</td>\n",
       "      <td>2</td>\n",
       "      <td>0</td>\n",
       "      <td>0</td>\n",
       "      <td>0</td>\n",
       "      <td>0</td>\n",
       "    </tr>\n",
       "    <tr>\n",
       "      <th>Epic</th>\n",
       "      <td>0</td>\n",
       "      <td>0</td>\n",
       "      <td>0</td>\n",
       "      <td>0</td>\n",
       "      <td>0</td>\n",
       "      <td>0</td>\n",
       "      <td>0</td>\n",
       "      <td>1</td>\n",
       "      <td>0</td>\n",
       "      <td>0</td>\n",
       "      <td>0</td>\n",
       "      <td>0</td>\n",
       "    </tr>\n",
       "    <tr>\n",
       "      <th>Firefox</th>\n",
       "      <td>94</td>\n",
       "      <td>291</td>\n",
       "      <td>202</td>\n",
       "      <td>396</td>\n",
       "      <td>917</td>\n",
       "      <td>390</td>\n",
       "      <td>485</td>\n",
       "      <td>17925</td>\n",
       "      <td>119</td>\n",
       "      <td>46</td>\n",
       "      <td>11004</td>\n",
       "      <td>1786</td>\n",
       "    </tr>\n",
       "    <tr>\n",
       "      <th>Flock</th>\n",
       "      <td>0</td>\n",
       "      <td>0</td>\n",
       "      <td>0</td>\n",
       "      <td>0</td>\n",
       "      <td>0</td>\n",
       "      <td>0</td>\n",
       "      <td>0</td>\n",
       "      <td>2</td>\n",
       "      <td>0</td>\n",
       "      <td>0</td>\n",
       "      <td>0</td>\n",
       "      <td>0</td>\n",
       "    </tr>\n",
       "    <tr>\n",
       "      <th>Google Earth</th>\n",
       "      <td>0</td>\n",
       "      <td>0</td>\n",
       "      <td>0</td>\n",
       "      <td>0</td>\n",
       "      <td>0</td>\n",
       "      <td>0</td>\n",
       "      <td>0</td>\n",
       "      <td>1</td>\n",
       "      <td>0</td>\n",
       "      <td>0</td>\n",
       "      <td>0</td>\n",
       "      <td>0</td>\n",
       "    </tr>\n",
       "    <tr>\n",
       "      <th>Googlebot</th>\n",
       "      <td>0</td>\n",
       "      <td>0</td>\n",
       "      <td>0</td>\n",
       "      <td>0</td>\n",
       "      <td>0</td>\n",
       "      <td>0</td>\n",
       "      <td>0</td>\n",
       "      <td>0</td>\n",
       "      <td>0</td>\n",
       "      <td>0</td>\n",
       "      <td>0</td>\n",
       "      <td>1</td>\n",
       "    </tr>\n",
       "    <tr>\n",
       "      <th>IE</th>\n",
       "      <td>54</td>\n",
       "      <td>120</td>\n",
       "      <td>95</td>\n",
       "      <td>210</td>\n",
       "      <td>459</td>\n",
       "      <td>216</td>\n",
       "      <td>278</td>\n",
       "      <td>13345</td>\n",
       "      <td>62</td>\n",
       "      <td>15</td>\n",
       "      <td>5253</td>\n",
       "      <td>961</td>\n",
       "    </tr>\n",
       "    <tr>\n",
       "      <th>IE Mobile</th>\n",
       "      <td>0</td>\n",
       "      <td>0</td>\n",
       "      <td>0</td>\n",
       "      <td>0</td>\n",
       "      <td>0</td>\n",
       "      <td>0</td>\n",
       "      <td>0</td>\n",
       "      <td>29</td>\n",
       "      <td>0</td>\n",
       "      <td>0</td>\n",
       "      <td>7</td>\n",
       "      <td>0</td>\n",
       "    </tr>\n",
       "    <tr>\n",
       "      <th>IceDragon</th>\n",
       "      <td>0</td>\n",
       "      <td>0</td>\n",
       "      <td>0</td>\n",
       "      <td>0</td>\n",
       "      <td>0</td>\n",
       "      <td>0</td>\n",
       "      <td>0</td>\n",
       "      <td>1</td>\n",
       "      <td>0</td>\n",
       "      <td>0</td>\n",
       "      <td>0</td>\n",
       "      <td>0</td>\n",
       "    </tr>\n",
       "    <tr>\n",
       "      <th>IceWeasel</th>\n",
       "      <td>0</td>\n",
       "      <td>0</td>\n",
       "      <td>0</td>\n",
       "      <td>0</td>\n",
       "      <td>0</td>\n",
       "      <td>1</td>\n",
       "      <td>0</td>\n",
       "      <td>5</td>\n",
       "      <td>0</td>\n",
       "      <td>0</td>\n",
       "      <td>6</td>\n",
       "      <td>1</td>\n",
       "    </tr>\n",
       "    <tr>\n",
       "      <th>Iron</th>\n",
       "      <td>0</td>\n",
       "      <td>0</td>\n",
       "      <td>0</td>\n",
       "      <td>0</td>\n",
       "      <td>1</td>\n",
       "      <td>0</td>\n",
       "      <td>1</td>\n",
       "      <td>8</td>\n",
       "      <td>0</td>\n",
       "      <td>0</td>\n",
       "      <td>5</td>\n",
       "      <td>2</td>\n",
       "    </tr>\n",
       "    <tr>\n",
       "      <th>Kindle Browser</th>\n",
       "      <td>0</td>\n",
       "      <td>0</td>\n",
       "      <td>0</td>\n",
       "      <td>0</td>\n",
       "      <td>0</td>\n",
       "      <td>0</td>\n",
       "      <td>0</td>\n",
       "      <td>0</td>\n",
       "      <td>0</td>\n",
       "      <td>0</td>\n",
       "      <td>0</td>\n",
       "      <td>1</td>\n",
       "    </tr>\n",
       "    <tr>\n",
       "      <th>Maxthon</th>\n",
       "      <td>0</td>\n",
       "      <td>0</td>\n",
       "      <td>0</td>\n",
       "      <td>1</td>\n",
       "      <td>0</td>\n",
       "      <td>1</td>\n",
       "      <td>0</td>\n",
       "      <td>30</td>\n",
       "      <td>0</td>\n",
       "      <td>0</td>\n",
       "      <td>11</td>\n",
       "      <td>3</td>\n",
       "    </tr>\n",
       "    <tr>\n",
       "      <th>Mobile Firefox</th>\n",
       "      <td>0</td>\n",
       "      <td>0</td>\n",
       "      <td>0</td>\n",
       "      <td>0</td>\n",
       "      <td>0</td>\n",
       "      <td>0</td>\n",
       "      <td>1</td>\n",
       "      <td>17</td>\n",
       "      <td>0</td>\n",
       "      <td>0</td>\n",
       "      <td>12</td>\n",
       "      <td>0</td>\n",
       "    </tr>\n",
       "    <tr>\n",
       "      <th>Mobile Safari</th>\n",
       "      <td>56</td>\n",
       "      <td>96</td>\n",
       "      <td>69</td>\n",
       "      <td>190</td>\n",
       "      <td>423</td>\n",
       "      <td>179</td>\n",
       "      <td>253</td>\n",
       "      <td>12093</td>\n",
       "      <td>67</td>\n",
       "      <td>12</td>\n",
       "      <td>5020</td>\n",
       "      <td>816</td>\n",
       "    </tr>\n",
       "    <tr>\n",
       "      <th>Mozilla</th>\n",
       "      <td>0</td>\n",
       "      <td>0</td>\n",
       "      <td>0</td>\n",
       "      <td>0</td>\n",
       "      <td>0</td>\n",
       "      <td>0</td>\n",
       "      <td>0</td>\n",
       "      <td>2</td>\n",
       "      <td>0</td>\n",
       "      <td>0</td>\n",
       "      <td>1</td>\n",
       "      <td>0</td>\n",
       "    </tr>\n",
       "    <tr>\n",
       "      <th>NetNewsWire</th>\n",
       "      <td>0</td>\n",
       "      <td>0</td>\n",
       "      <td>0</td>\n",
       "      <td>0</td>\n",
       "      <td>0</td>\n",
       "      <td>0</td>\n",
       "      <td>0</td>\n",
       "      <td>0</td>\n",
       "      <td>0</td>\n",
       "      <td>0</td>\n",
       "      <td>1</td>\n",
       "      <td>0</td>\n",
       "    </tr>\n",
       "    <tr>\n",
       "      <th>OmniWeb</th>\n",
       "      <td>0</td>\n",
       "      <td>0</td>\n",
       "      <td>0</td>\n",
       "      <td>0</td>\n",
       "      <td>0</td>\n",
       "      <td>0</td>\n",
       "      <td>0</td>\n",
       "      <td>2</td>\n",
       "      <td>0</td>\n",
       "      <td>0</td>\n",
       "      <td>0</td>\n",
       "      <td>0</td>\n",
       "    </tr>\n",
       "    <tr>\n",
       "      <th>Opera</th>\n",
       "      <td>0</td>\n",
       "      <td>1</td>\n",
       "      <td>1</td>\n",
       "      <td>1</td>\n",
       "      <td>5</td>\n",
       "      <td>0</td>\n",
       "      <td>1</td>\n",
       "      <td>124</td>\n",
       "      <td>1</td>\n",
       "      <td>0</td>\n",
       "      <td>42</td>\n",
       "      <td>12</td>\n",
       "    </tr>\n",
       "    <tr>\n",
       "      <th>Opera Mini</th>\n",
       "      <td>0</td>\n",
       "      <td>0</td>\n",
       "      <td>0</td>\n",
       "      <td>0</td>\n",
       "      <td>0</td>\n",
       "      <td>0</td>\n",
       "      <td>0</td>\n",
       "      <td>2</td>\n",
       "      <td>0</td>\n",
       "      <td>0</td>\n",
       "      <td>2</td>\n",
       "      <td>0</td>\n",
       "    </tr>\n",
       "    <tr>\n",
       "      <th>Opera Mobile</th>\n",
       "      <td>0</td>\n",
       "      <td>0</td>\n",
       "      <td>0</td>\n",
       "      <td>0</td>\n",
       "      <td>0</td>\n",
       "      <td>0</td>\n",
       "      <td>0</td>\n",
       "      <td>2</td>\n",
       "      <td>0</td>\n",
       "      <td>0</td>\n",
       "      <td>0</td>\n",
       "      <td>0</td>\n",
       "    </tr>\n",
       "    <tr>\n",
       "      <th>Outlook 2007</th>\n",
       "      <td>0</td>\n",
       "      <td>0</td>\n",
       "      <td>0</td>\n",
       "      <td>0</td>\n",
       "      <td>0</td>\n",
       "      <td>0</td>\n",
       "      <td>0</td>\n",
       "      <td>1</td>\n",
       "      <td>0</td>\n",
       "      <td>0</td>\n",
       "      <td>0</td>\n",
       "      <td>0</td>\n",
       "    </tr>\n",
       "    <tr>\n",
       "      <th>PS Vita browser</th>\n",
       "      <td>0</td>\n",
       "      <td>0</td>\n",
       "      <td>0</td>\n",
       "      <td>0</td>\n",
       "      <td>0</td>\n",
       "      <td>0</td>\n",
       "      <td>0</td>\n",
       "      <td>1</td>\n",
       "      <td>0</td>\n",
       "      <td>0</td>\n",
       "      <td>0</td>\n",
       "      <td>0</td>\n",
       "    </tr>\n",
       "    <tr>\n",
       "      <th>Pale Moon</th>\n",
       "      <td>0</td>\n",
       "      <td>0</td>\n",
       "      <td>0</td>\n",
       "      <td>0</td>\n",
       "      <td>0</td>\n",
       "      <td>0</td>\n",
       "      <td>0</td>\n",
       "      <td>8</td>\n",
       "      <td>0</td>\n",
       "      <td>0</td>\n",
       "      <td>4</td>\n",
       "      <td>0</td>\n",
       "    </tr>\n",
       "    <tr>\n",
       "      <th>Palm Pre web browser</th>\n",
       "      <td>0</td>\n",
       "      <td>0</td>\n",
       "      <td>0</td>\n",
       "      <td>0</td>\n",
       "      <td>0</td>\n",
       "      <td>0</td>\n",
       "      <td>0</td>\n",
       "      <td>0</td>\n",
       "      <td>0</td>\n",
       "      <td>0</td>\n",
       "      <td>0</td>\n",
       "      <td>1</td>\n",
       "    </tr>\n",
       "    <tr>\n",
       "      <th>RockMelt</th>\n",
       "      <td>0</td>\n",
       "      <td>0</td>\n",
       "      <td>0</td>\n",
       "      <td>0</td>\n",
       "      <td>0</td>\n",
       "      <td>2</td>\n",
       "      <td>1</td>\n",
       "      <td>12</td>\n",
       "      <td>0</td>\n",
       "      <td>0</td>\n",
       "      <td>9</td>\n",
       "      <td>0</td>\n",
       "    </tr>\n",
       "    <tr>\n",
       "      <th>Safari</th>\n",
       "      <td>138</td>\n",
       "      <td>321</td>\n",
       "      <td>248</td>\n",
       "      <td>526</td>\n",
       "      <td>1290</td>\n",
       "      <td>620</td>\n",
       "      <td>706</td>\n",
       "      <td>25448</td>\n",
       "      <td>189</td>\n",
       "      <td>54</td>\n",
       "      <td>13625</td>\n",
       "      <td>2004</td>\n",
       "    </tr>\n",
       "    <tr>\n",
       "      <th>SeaMonkey</th>\n",
       "      <td>0</td>\n",
       "      <td>1</td>\n",
       "      <td>0</td>\n",
       "      <td>0</td>\n",
       "      <td>0</td>\n",
       "      <td>0</td>\n",
       "      <td>0</td>\n",
       "      <td>7</td>\n",
       "      <td>0</td>\n",
       "      <td>0</td>\n",
       "      <td>1</td>\n",
       "      <td>2</td>\n",
       "    </tr>\n",
       "    <tr>\n",
       "      <th>Silk</th>\n",
       "      <td>0</td>\n",
       "      <td>1</td>\n",
       "      <td>0</td>\n",
       "      <td>0</td>\n",
       "      <td>1</td>\n",
       "      <td>1</td>\n",
       "      <td>1</td>\n",
       "      <td>81</td>\n",
       "      <td>0</td>\n",
       "      <td>0</td>\n",
       "      <td>36</td>\n",
       "      <td>3</td>\n",
       "    </tr>\n",
       "    <tr>\n",
       "      <th>SiteKiosk</th>\n",
       "      <td>0</td>\n",
       "      <td>0</td>\n",
       "      <td>0</td>\n",
       "      <td>0</td>\n",
       "      <td>1</td>\n",
       "      <td>0</td>\n",
       "      <td>0</td>\n",
       "      <td>17</td>\n",
       "      <td>0</td>\n",
       "      <td>0</td>\n",
       "      <td>4</td>\n",
       "      <td>2</td>\n",
       "    </tr>\n",
       "    <tr>\n",
       "      <th>SlimBrowser</th>\n",
       "      <td>0</td>\n",
       "      <td>0</td>\n",
       "      <td>0</td>\n",
       "      <td>0</td>\n",
       "      <td>0</td>\n",
       "      <td>0</td>\n",
       "      <td>0</td>\n",
       "      <td>1</td>\n",
       "      <td>0</td>\n",
       "      <td>0</td>\n",
       "      <td>1</td>\n",
       "      <td>0</td>\n",
       "    </tr>\n",
       "    <tr>\n",
       "      <th>Sogou Explorer</th>\n",
       "      <td>0</td>\n",
       "      <td>0</td>\n",
       "      <td>0</td>\n",
       "      <td>0</td>\n",
       "      <td>0</td>\n",
       "      <td>0</td>\n",
       "      <td>0</td>\n",
       "      <td>24</td>\n",
       "      <td>0</td>\n",
       "      <td>0</td>\n",
       "      <td>6</td>\n",
       "      <td>3</td>\n",
       "    </tr>\n",
       "    <tr>\n",
       "      <th>Stainless</th>\n",
       "      <td>0</td>\n",
       "      <td>0</td>\n",
       "      <td>0</td>\n",
       "      <td>0</td>\n",
       "      <td>0</td>\n",
       "      <td>0</td>\n",
       "      <td>0</td>\n",
       "      <td>0</td>\n",
       "      <td>0</td>\n",
       "      <td>0</td>\n",
       "      <td>1</td>\n",
       "      <td>0</td>\n",
       "    </tr>\n",
       "    <tr>\n",
       "      <th>TenFourFox</th>\n",
       "      <td>0</td>\n",
       "      <td>0</td>\n",
       "      <td>0</td>\n",
       "      <td>0</td>\n",
       "      <td>0</td>\n",
       "      <td>0</td>\n",
       "      <td>0</td>\n",
       "      <td>4</td>\n",
       "      <td>0</td>\n",
       "      <td>0</td>\n",
       "      <td>3</td>\n",
       "      <td>1</td>\n",
       "    </tr>\n",
       "    <tr>\n",
       "      <th>TheWorld Browser</th>\n",
       "      <td>0</td>\n",
       "      <td>0</td>\n",
       "      <td>0</td>\n",
       "      <td>0</td>\n",
       "      <td>1</td>\n",
       "      <td>0</td>\n",
       "      <td>0</td>\n",
       "      <td>0</td>\n",
       "      <td>0</td>\n",
       "      <td>0</td>\n",
       "      <td>1</td>\n",
       "      <td>0</td>\n",
       "    </tr>\n",
       "    <tr>\n",
       "      <th>Yandex.Browser</th>\n",
       "      <td>0</td>\n",
       "      <td>0</td>\n",
       "      <td>0</td>\n",
       "      <td>0</td>\n",
       "      <td>0</td>\n",
       "      <td>0</td>\n",
       "      <td>0</td>\n",
       "      <td>10</td>\n",
       "      <td>0</td>\n",
       "      <td>0</td>\n",
       "      <td>0</td>\n",
       "      <td>1</td>\n",
       "    </tr>\n",
       "    <tr>\n",
       "      <th>wOSBrowser</th>\n",
       "      <td>0</td>\n",
       "      <td>0</td>\n",
       "      <td>0</td>\n",
       "      <td>0</td>\n",
       "      <td>0</td>\n",
       "      <td>0</td>\n",
       "      <td>0</td>\n",
       "      <td>3</td>\n",
       "      <td>0</td>\n",
       "      <td>0</td>\n",
       "      <td>1</td>\n",
       "      <td>2</td>\n",
       "    </tr>\n",
       "  </tbody>\n",
       "</table>\n",
       "</div>"
      ],
      "text/plain": [
       "country_destination    AU   CA   DE   ES    FR   GB   IT    NDF   NL  PT  \\\n",
       "first_browser                                                              \n",
       "-unknown-              39   98   76  158   358  160  190  19648   56  17   \n",
       "AOL Explorer            0    1    0    1     6    1    3    182    0   0   \n",
       "Android Browser         1    3    2    5    10    2    4    571    2   0   \n",
       "Apple Mail              0    0    1    0     0    0    1     21    0   0   \n",
       "Arora                   0    0    0    0     0    0    0      1    0   0   \n",
       "Avant Browser           0    0    0    0     0    0    0      3    0   0   \n",
       "BlackBerry Browser      1    0    0    0     2    0    2     31    0   0   \n",
       "Camino                  0    0    0    0     0    0    0      2    0   0   \n",
       "Chrome                154  486  361  755  1535  742  897  33968  260  73   \n",
       "Chrome Mobile           2    5    5    5    14    9   10    862    6   0   \n",
       "Chromium                0    3    1    1     0    0    1     30    0   0   \n",
       "CometBird               0    0    0    0     0    0    0     10    0   0   \n",
       "Comodo Dragon           0    0    0    0     0    0    0      2    0   0   \n",
       "Conkeror                0    0    0    0     0    0    0      1    0   0   \n",
       "CoolNovo                0    1    0    0     0    0    0      3    0   0   \n",
       "Crazy Browser           0    0    0    0     0    0    0      2    0   0   \n",
       "Epic                    0    0    0    0     0    0    0      1    0   0   \n",
       "Firefox                94  291  202  396   917  390  485  17925  119  46   \n",
       "Flock                   0    0    0    0     0    0    0      2    0   0   \n",
       "Google Earth            0    0    0    0     0    0    0      1    0   0   \n",
       "Googlebot               0    0    0    0     0    0    0      0    0   0   \n",
       "IE                     54  120   95  210   459  216  278  13345   62  15   \n",
       "IE Mobile               0    0    0    0     0    0    0     29    0   0   \n",
       "IceDragon               0    0    0    0     0    0    0      1    0   0   \n",
       "IceWeasel               0    0    0    0     0    1    0      5    0   0   \n",
       "Iron                    0    0    0    0     1    0    1      8    0   0   \n",
       "Kindle Browser          0    0    0    0     0    0    0      0    0   0   \n",
       "Maxthon                 0    0    0    1     0    1    0     30    0   0   \n",
       "Mobile Firefox          0    0    0    0     0    0    1     17    0   0   \n",
       "Mobile Safari          56   96   69  190   423  179  253  12093   67  12   \n",
       "Mozilla                 0    0    0    0     0    0    0      2    0   0   \n",
       "NetNewsWire             0    0    0    0     0    0    0      0    0   0   \n",
       "OmniWeb                 0    0    0    0     0    0    0      2    0   0   \n",
       "Opera                   0    1    1    1     5    0    1    124    1   0   \n",
       "Opera Mini              0    0    0    0     0    0    0      2    0   0   \n",
       "Opera Mobile            0    0    0    0     0    0    0      2    0   0   \n",
       "Outlook 2007            0    0    0    0     0    0    0      1    0   0   \n",
       "PS Vita browser         0    0    0    0     0    0    0      1    0   0   \n",
       "Pale Moon               0    0    0    0     0    0    0      8    0   0   \n",
       "Palm Pre web browser    0    0    0    0     0    0    0      0    0   0   \n",
       "RockMelt                0    0    0    0     0    2    1     12    0   0   \n",
       "Safari                138  321  248  526  1290  620  706  25448  189  54   \n",
       "SeaMonkey               0    1    0    0     0    0    0      7    0   0   \n",
       "Silk                    0    1    0    0     1    1    1     81    0   0   \n",
       "SiteKiosk               0    0    0    0     1    0    0     17    0   0   \n",
       "SlimBrowser             0    0    0    0     0    0    0      1    0   0   \n",
       "Sogou Explorer          0    0    0    0     0    0    0     24    0   0   \n",
       "Stainless               0    0    0    0     0    0    0      0    0   0   \n",
       "TenFourFox              0    0    0    0     0    0    0      4    0   0   \n",
       "TheWorld Browser        0    0    0    0     1    0    0      0    0   0   \n",
       "Yandex.Browser          0    0    0    0     0    0    0     10    0   0   \n",
       "wOSBrowser              0    0    0    0     0    0    0      3    0   0   \n",
       "\n",
       "country_destination      US  other  \n",
       "first_browser                       \n",
       "-unknown-              5628    838  \n",
       "AOL Explorer             46      5  \n",
       "Android Browser         212     39  \n",
       "Apple Mail               12      1  \n",
       "Arora                     0      0  \n",
       "Avant Browser             0      1  \n",
       "BlackBerry Browser       15      2  \n",
       "Camino                    7      0  \n",
       "Chrome                21061   3553  \n",
       "Chrome Mobile           304     48  \n",
       "Chromium                 32      5  \n",
       "CometBird                 1      0  \n",
       "Comodo Dragon             0      0  \n",
       "Conkeror                  0      0  \n",
       "CoolNovo                  2      0  \n",
       "Crazy Browser             0      0  \n",
       "Epic                      0      0  \n",
       "Firefox               11004   1786  \n",
       "Flock                     0      0  \n",
       "Google Earth              0      0  \n",
       "Googlebot                 0      1  \n",
       "IE                     5253    961  \n",
       "IE Mobile                 7      0  \n",
       "IceDragon                 0      0  \n",
       "IceWeasel                 6      1  \n",
       "Iron                      5      2  \n",
       "Kindle Browser            0      1  \n",
       "Maxthon                  11      3  \n",
       "Mobile Firefox           12      0  \n",
       "Mobile Safari          5020    816  \n",
       "Mozilla                   1      0  \n",
       "NetNewsWire               1      0  \n",
       "OmniWeb                   0      0  \n",
       "Opera                    42     12  \n",
       "Opera Mini                2      0  \n",
       "Opera Mobile              0      0  \n",
       "Outlook 2007              0      0  \n",
       "PS Vita browser           0      0  \n",
       "Pale Moon                 4      0  \n",
       "Palm Pre web browser      0      1  \n",
       "RockMelt                  9      0  \n",
       "Safari                13625   2004  \n",
       "SeaMonkey                 1      2  \n",
       "Silk                     36      3  \n",
       "SiteKiosk                 4      2  \n",
       "SlimBrowser               1      0  \n",
       "Sogou Explorer            6      3  \n",
       "Stainless                 1      0  \n",
       "TenFourFox                3      1  \n",
       "TheWorld Browser          1      0  \n",
       "Yandex.Browser            0      1  \n",
       "wOSBrowser                1      2  "
      ]
     },
     "execution_count": 49,
     "metadata": {},
     "output_type": "execute_result"
    }
   ],
   "source": [
    "(pd.crosstab(train_users.first_browser,train_users.country_destination))"
   ]
  },
  {
   "cell_type": "code",
   "execution_count": 55,
   "metadata": {
    "ExecuteTime": {
     "end_time": "2020-04-18T22:01:47.159052Z",
     "start_time": "2020-04-18T22:01:47.154209Z"
    }
   },
   "outputs": [],
   "source": [
    "def feature_first_browser(df_inp):\n",
    "    df_tmp = pd.concat([pd.get_dummies(df_inp.first_browser), df_inp[['id']]], axis=1)\n",
    "    df_tmp.columns = ['first_browser_'+ x for x in df_tmp.columns if x!='id']+['id']\n",
    "    return df_tmp"
   ]
  },
  {
   "cell_type": "code",
   "execution_count": 56,
   "metadata": {
    "ExecuteTime": {
     "end_time": "2020-04-18T22:01:47.684521Z",
     "start_time": "2020-04-18T22:01:47.681870Z"
    }
   },
   "outputs": [],
   "source": [
    "feature_dfs.update({'first_browser': feature_first_browser})"
   ]
  },
  {
   "cell_type": "code",
   "execution_count": 57,
   "metadata": {
    "ExecuteTime": {
     "end_time": "2020-04-18T22:01:48.255063Z",
     "start_time": "2020-04-18T22:01:48.183402Z"
    }
   },
   "outputs": [
    {
     "data": {
      "text/html": [
       "<div>\n",
       "<style scoped>\n",
       "    .dataframe tbody tr th:only-of-type {\n",
       "        vertical-align: middle;\n",
       "    }\n",
       "\n",
       "    .dataframe tbody tr th {\n",
       "        vertical-align: top;\n",
       "    }\n",
       "\n",
       "    .dataframe thead th {\n",
       "        text-align: right;\n",
       "    }\n",
       "</style>\n",
       "<table border=\"1\" class=\"dataframe\">\n",
       "  <thead>\n",
       "    <tr style=\"text-align: right;\">\n",
       "      <th></th>\n",
       "      <th>first_browser_-unknown-</th>\n",
       "      <th>first_browser_AOL Explorer</th>\n",
       "      <th>first_browser_Android Browser</th>\n",
       "      <th>first_browser_Apple Mail</th>\n",
       "      <th>first_browser_Arora</th>\n",
       "      <th>first_browser_Avant Browser</th>\n",
       "      <th>first_browser_BlackBerry Browser</th>\n",
       "      <th>first_browser_Camino</th>\n",
       "      <th>first_browser_Chrome</th>\n",
       "      <th>first_browser_Chrome Mobile</th>\n",
       "      <th>...</th>\n",
       "      <th>first_browser_Silk</th>\n",
       "      <th>first_browser_SiteKiosk</th>\n",
       "      <th>first_browser_SlimBrowser</th>\n",
       "      <th>first_browser_Sogou Explorer</th>\n",
       "      <th>first_browser_Stainless</th>\n",
       "      <th>first_browser_TenFourFox</th>\n",
       "      <th>first_browser_TheWorld Browser</th>\n",
       "      <th>first_browser_Yandex.Browser</th>\n",
       "      <th>first_browser_wOSBrowser</th>\n",
       "      <th>id</th>\n",
       "    </tr>\n",
       "  </thead>\n",
       "  <tbody>\n",
       "    <tr>\n",
       "      <th>0</th>\n",
       "      <td>0</td>\n",
       "      <td>0</td>\n",
       "      <td>0</td>\n",
       "      <td>0</td>\n",
       "      <td>0</td>\n",
       "      <td>0</td>\n",
       "      <td>0</td>\n",
       "      <td>0</td>\n",
       "      <td>1</td>\n",
       "      <td>0</td>\n",
       "      <td>...</td>\n",
       "      <td>0</td>\n",
       "      <td>0</td>\n",
       "      <td>0</td>\n",
       "      <td>0</td>\n",
       "      <td>0</td>\n",
       "      <td>0</td>\n",
       "      <td>0</td>\n",
       "      <td>0</td>\n",
       "      <td>0</td>\n",
       "      <td>gxn3p5htnn</td>\n",
       "    </tr>\n",
       "    <tr>\n",
       "      <th>1</th>\n",
       "      <td>0</td>\n",
       "      <td>0</td>\n",
       "      <td>0</td>\n",
       "      <td>0</td>\n",
       "      <td>0</td>\n",
       "      <td>0</td>\n",
       "      <td>0</td>\n",
       "      <td>0</td>\n",
       "      <td>1</td>\n",
       "      <td>0</td>\n",
       "      <td>...</td>\n",
       "      <td>0</td>\n",
       "      <td>0</td>\n",
       "      <td>0</td>\n",
       "      <td>0</td>\n",
       "      <td>0</td>\n",
       "      <td>0</td>\n",
       "      <td>0</td>\n",
       "      <td>0</td>\n",
       "      <td>0</td>\n",
       "      <td>820tgsjxq7</td>\n",
       "    </tr>\n",
       "    <tr>\n",
       "      <th>2</th>\n",
       "      <td>0</td>\n",
       "      <td>0</td>\n",
       "      <td>0</td>\n",
       "      <td>0</td>\n",
       "      <td>0</td>\n",
       "      <td>0</td>\n",
       "      <td>0</td>\n",
       "      <td>0</td>\n",
       "      <td>0</td>\n",
       "      <td>0</td>\n",
       "      <td>...</td>\n",
       "      <td>0</td>\n",
       "      <td>0</td>\n",
       "      <td>0</td>\n",
       "      <td>0</td>\n",
       "      <td>0</td>\n",
       "      <td>0</td>\n",
       "      <td>0</td>\n",
       "      <td>0</td>\n",
       "      <td>0</td>\n",
       "      <td>4ft3gnwmtx</td>\n",
       "    </tr>\n",
       "    <tr>\n",
       "      <th>3</th>\n",
       "      <td>0</td>\n",
       "      <td>0</td>\n",
       "      <td>0</td>\n",
       "      <td>0</td>\n",
       "      <td>0</td>\n",
       "      <td>0</td>\n",
       "      <td>0</td>\n",
       "      <td>0</td>\n",
       "      <td>0</td>\n",
       "      <td>0</td>\n",
       "      <td>...</td>\n",
       "      <td>0</td>\n",
       "      <td>0</td>\n",
       "      <td>0</td>\n",
       "      <td>0</td>\n",
       "      <td>0</td>\n",
       "      <td>0</td>\n",
       "      <td>0</td>\n",
       "      <td>0</td>\n",
       "      <td>0</td>\n",
       "      <td>bjjt8pjhuk</td>\n",
       "    </tr>\n",
       "    <tr>\n",
       "      <th>4</th>\n",
       "      <td>0</td>\n",
       "      <td>0</td>\n",
       "      <td>0</td>\n",
       "      <td>0</td>\n",
       "      <td>0</td>\n",
       "      <td>0</td>\n",
       "      <td>0</td>\n",
       "      <td>0</td>\n",
       "      <td>1</td>\n",
       "      <td>0</td>\n",
       "      <td>...</td>\n",
       "      <td>0</td>\n",
       "      <td>0</td>\n",
       "      <td>0</td>\n",
       "      <td>0</td>\n",
       "      <td>0</td>\n",
       "      <td>0</td>\n",
       "      <td>0</td>\n",
       "      <td>0</td>\n",
       "      <td>0</td>\n",
       "      <td>87mebub9p4</td>\n",
       "    </tr>\n",
       "  </tbody>\n",
       "</table>\n",
       "<p>5 rows × 53 columns</p>\n",
       "</div>"
      ],
      "text/plain": [
       "   first_browser_-unknown-  first_browser_AOL Explorer  \\\n",
       "0                        0                           0   \n",
       "1                        0                           0   \n",
       "2                        0                           0   \n",
       "3                        0                           0   \n",
       "4                        0                           0   \n",
       "\n",
       "   first_browser_Android Browser  first_browser_Apple Mail  \\\n",
       "0                              0                         0   \n",
       "1                              0                         0   \n",
       "2                              0                         0   \n",
       "3                              0                         0   \n",
       "4                              0                         0   \n",
       "\n",
       "   first_browser_Arora  first_browser_Avant Browser  \\\n",
       "0                    0                            0   \n",
       "1                    0                            0   \n",
       "2                    0                            0   \n",
       "3                    0                            0   \n",
       "4                    0                            0   \n",
       "\n",
       "   first_browser_BlackBerry Browser  first_browser_Camino  \\\n",
       "0                                 0                     0   \n",
       "1                                 0                     0   \n",
       "2                                 0                     0   \n",
       "3                                 0                     0   \n",
       "4                                 0                     0   \n",
       "\n",
       "   first_browser_Chrome  first_browser_Chrome Mobile  ...  first_browser_Silk  \\\n",
       "0                     1                            0  ...                   0   \n",
       "1                     1                            0  ...                   0   \n",
       "2                     0                            0  ...                   0   \n",
       "3                     0                            0  ...                   0   \n",
       "4                     1                            0  ...                   0   \n",
       "\n",
       "   first_browser_SiteKiosk  first_browser_SlimBrowser  \\\n",
       "0                        0                          0   \n",
       "1                        0                          0   \n",
       "2                        0                          0   \n",
       "3                        0                          0   \n",
       "4                        0                          0   \n",
       "\n",
       "   first_browser_Sogou Explorer  first_browser_Stainless  \\\n",
       "0                             0                        0   \n",
       "1                             0                        0   \n",
       "2                             0                        0   \n",
       "3                             0                        0   \n",
       "4                             0                        0   \n",
       "\n",
       "   first_browser_TenFourFox  first_browser_TheWorld Browser  \\\n",
       "0                         0                               0   \n",
       "1                         0                               0   \n",
       "2                         0                               0   \n",
       "3                         0                               0   \n",
       "4                         0                               0   \n",
       "\n",
       "   first_browser_Yandex.Browser  first_browser_wOSBrowser          id  \n",
       "0                             0                         0  gxn3p5htnn  \n",
       "1                             0                         0  820tgsjxq7  \n",
       "2                             0                         0  4ft3gnwmtx  \n",
       "3                             0                         0  bjjt8pjhuk  \n",
       "4                             0                         0  87mebub9p4  \n",
       "\n",
       "[5 rows x 53 columns]"
      ]
     },
     "execution_count": 57,
     "metadata": {},
     "output_type": "execute_result"
    }
   ],
   "source": [
    "feature_first_browser(train_users).head()"
   ]
  },
  {
   "cell_type": "code",
   "execution_count": 58,
   "metadata": {
    "ExecuteTime": {
     "end_time": "2020-04-18T22:01:50.001906Z",
     "start_time": "2020-04-18T22:01:49.978095Z"
    }
   },
   "outputs": [],
   "source": [
    "train_users.loc[train_users.first_browser=='-unknown-','first_browser']=np.nan"
   ]
  },
  {
   "cell_type": "code",
   "execution_count": 59,
   "metadata": {
    "ExecuteTime": {
     "end_time": "2020-04-18T22:01:50.268272Z",
     "start_time": "2020-04-18T22:01:50.246641Z"
    },
    "scrolled": false
   },
   "outputs": [
    {
     "data": {
      "text/plain": [
       "en    0.966564\n",
       "zh    0.007646\n",
       "fr    0.005491\n",
       "es    0.004287\n",
       "ko    0.003500\n",
       "de    0.003429\n",
       "it    0.002408\n",
       "ru    0.001822\n",
       "pt    0.001124\n",
       "ja    0.001054\n",
       "sv    0.000572\n",
       "nl    0.000454\n",
       "tr    0.000300\n",
       "da    0.000272\n",
       "pl    0.000253\n",
       "cs    0.000150\n",
       "no    0.000141\n",
       "th    0.000112\n",
       "el    0.000112\n",
       "id    0.000103\n",
       "hu    0.000084\n",
       "fi    0.000066\n",
       "is    0.000023\n",
       "ca    0.000023\n",
       "hr    0.000009\n",
       "Name: language, dtype: float64"
      ]
     },
     "execution_count": 59,
     "metadata": {},
     "output_type": "execute_result"
    }
   ],
   "source": [
    "train_users.language.value_counts(normalize=True)"
   ]
  },
  {
   "cell_type": "code",
   "execution_count": 60,
   "metadata": {
    "ExecuteTime": {
     "end_time": "2020-04-18T22:01:52.130231Z",
     "start_time": "2020-04-18T22:01:51.924658Z"
    }
   },
   "outputs": [
    {
     "data": {
      "text/plain": [
       "<matplotlib.axes._subplots.AxesSubplot at 0x12498c780>"
      ]
     },
     "execution_count": 60,
     "metadata": {},
     "output_type": "execute_result"
    },
    {
     "data": {
      "image/png": "[encoded data removed]",
      "text/plain": [
       "<Figure size 432x288 with 1 Axes>"
      ]
     },
     "metadata": {
      "needs_background": "light"
     },
     "output_type": "display_data"
    }
   ],
   "source": [
    "train_users.country_destination.value_counts(normalize=True).plot(kind='bar')"
   ]
  },
  {
   "cell_type": "code",
   "execution_count": 61,
   "metadata": {
    "ExecuteTime": {
     "end_time": "2020-04-18T22:01:52.395953Z",
     "start_time": "2020-04-18T22:01:52.202359Z"
    }
   },
   "outputs": [
    {
     "data": {
      "text/plain": [
       "<matplotlib.axes._subplots.AxesSubplot at 0x126668ac8>"
      ]
     },
     "execution_count": 61,
     "metadata": {},
     "output_type": "execute_result"
    },
    {
     "data": {
      "image/png": "[encoded data removed]",
      "text/plain": [
       "<Figure size 432x288 with 1 Axes>"
      ]
     },
     "metadata": {
      "needs_background": "light"
     },
     "output_type": "display_data"
    }
   ],
   "source": [
    "train_users.affiliate_channel.value_counts(normalize=True).plot(kind='bar')"
   ]
  },
  {
   "cell_type": "code",
   "execution_count": 62,
   "metadata": {
    "ExecuteTime": {
     "end_time": "2020-04-18T22:01:53.929080Z",
     "start_time": "2020-04-18T22:01:53.677099Z"
    }
   },
   "outputs": [
    {
     "data": {
      "text/plain": [
       "<matplotlib.axes._subplots.AxesSubplot at 0x126764a90>"
      ]
     },
     "execution_count": 62,
     "metadata": {},
     "output_type": "execute_result"
    },
    {
     "data": {
      "image/png": "[encoded data removed]",
      "text/plain": [
       "<Figure size 432x288 with 1 Axes>"
      ]
     },
     "metadata": {
      "needs_background": "light"
     },
     "output_type": "display_data"
    }
   ],
   "source": [
    "train_users.affiliate_provider.value_counts().plot(kind='bar')"
   ]
  },
  {
   "cell_type": "markdown",
   "metadata": {},
   "source": [
    "# Country data"
   ]
  },
  {
   "cell_type": "code",
   "execution_count": 63,
   "metadata": {
    "ExecuteTime": {
     "end_time": "2020-04-18T22:01:57.584826Z",
     "start_time": "2020-04-18T22:01:57.580243Z"
    }
   },
   "outputs": [
    {
     "data": {
      "text/plain": [
       "Index(['country_destination', 'lat_destination', 'lng_destination',\n",
       "       'distance_km', 'destination_km2', 'destination_language ',\n",
       "       'language_levenshtein_distance'],\n",
       "      dtype='object')"
      ]
     },
     "execution_count": 63,
     "metadata": {},
     "output_type": "execute_result"
    }
   ],
   "source": [
    "countries.columns"
   ]
  },
  {
   "cell_type": "code",
   "execution_count": 64,
   "metadata": {
    "ExecuteTime": {
     "end_time": "2020-04-18T22:01:57.994774Z",
     "start_time": "2020-04-18T22:01:57.984779Z"
    }
   },
   "outputs": [
    {
     "data": {
      "text/html": [
       "<div>\n",
       "<style scoped>\n",
       "    .dataframe tbody tr th:only-of-type {\n",
       "        vertical-align: middle;\n",
       "    }\n",
       "\n",
       "    .dataframe tbody tr th {\n",
       "        vertical-align: top;\n",
       "    }\n",
       "\n",
       "    .dataframe thead th {\n",
       "        text-align: right;\n",
       "    }\n",
       "</style>\n",
       "<table border=\"1\" class=\"dataframe\">\n",
       "  <thead>\n",
       "    <tr style=\"text-align: right;\">\n",
       "      <th></th>\n",
       "      <th>destination_language</th>\n",
       "      <th>language_levenshtein_distance</th>\n",
       "      <th>distance_km</th>\n",
       "    </tr>\n",
       "  </thead>\n",
       "  <tbody>\n",
       "    <tr>\n",
       "      <th>0</th>\n",
       "      <td>eng</td>\n",
       "      <td>0.00</td>\n",
       "      <td>15297.7440</td>\n",
       "    </tr>\n",
       "    <tr>\n",
       "      <th>1</th>\n",
       "      <td>eng</td>\n",
       "      <td>0.00</td>\n",
       "      <td>2828.1333</td>\n",
       "    </tr>\n",
       "    <tr>\n",
       "      <th>2</th>\n",
       "      <td>deu</td>\n",
       "      <td>72.61</td>\n",
       "      <td>7879.5680</td>\n",
       "    </tr>\n",
       "    <tr>\n",
       "      <th>3</th>\n",
       "      <td>spa</td>\n",
       "      <td>92.25</td>\n",
       "      <td>7730.7240</td>\n",
       "    </tr>\n",
       "    <tr>\n",
       "      <th>4</th>\n",
       "      <td>fra</td>\n",
       "      <td>92.06</td>\n",
       "      <td>7682.9450</td>\n",
       "    </tr>\n",
       "  </tbody>\n",
       "</table>\n",
       "</div>"
      ],
      "text/plain": [
       "  destination_language   language_levenshtein_distance  distance_km\n",
       "0                   eng                           0.00   15297.7440\n",
       "1                   eng                           0.00    2828.1333\n",
       "2                   deu                          72.61    7879.5680\n",
       "3                   spa                          92.25    7730.7240\n",
       "4                   fra                          92.06    7682.9450"
      ]
     },
     "execution_count": 64,
     "metadata": {},
     "output_type": "execute_result"
    }
   ],
   "source": [
    " countries[['destination_language ' ,'language_levenshtein_distance','distance_km']].head()"
   ]
  },
  {
   "cell_type": "code",
   "execution_count": 65,
   "metadata": {
    "ExecuteTime": {
     "end_time": "2020-04-18T22:01:59.016461Z",
     "start_time": "2020-04-18T22:01:59.012612Z"
    }
   },
   "outputs": [],
   "source": [
    "def feature_language(df_inp):\n",
    "    df_tmp = df_inp[['id','language']].merge(\n",
    "    countries[['destination_language ' ,'language_levenshtein_distance','distance_km']],\n",
    "                               left_on='language',\n",
    "        right_on='destination_language ',how='left').drop(['destination_language ','language'], axis=1)\n",
    "#     display(df_tmp.head())\n",
    "    return df_tmp\n",
    "    "
   ]
  },
  {
   "cell_type": "code",
   "execution_count": 66,
   "metadata": {
    "ExecuteTime": {
     "end_time": "2020-04-18T22:02:00.497670Z",
     "start_time": "2020-04-18T22:02:00.494732Z"
    }
   },
   "outputs": [],
   "source": [
    "feature_dfs.update({'language': feature_language})"
   ]
  },
  {
   "cell_type": "code",
   "execution_count": null,
   "metadata": {},
   "outputs": [],
   "source": []
  },
  {
   "cell_type": "markdown",
   "metadata": {},
   "source": [
    "# Age gender data"
   ]
  },
  {
   "cell_type": "code",
   "execution_count": 67,
   "metadata": {
    "ExecuteTime": {
     "end_time": "2020-04-18T22:02:03.345875Z",
     "start_time": "2020-04-18T22:02:03.341488Z"
    }
   },
   "outputs": [
    {
     "data": {
      "text/plain": [
       "(420, 5)"
      ]
     },
     "execution_count": 67,
     "metadata": {},
     "output_type": "execute_result"
    }
   ],
   "source": [
    "age_gender_bkts.shape"
   ]
  },
  {
   "cell_type": "code",
   "execution_count": 68,
   "metadata": {
    "ExecuteTime": {
     "end_time": "2020-04-18T22:02:03.909786Z",
     "start_time": "2020-04-18T22:02:03.900683Z"
    }
   },
   "outputs": [
    {
     "data": {
      "text/html": [
       "<div>\n",
       "<style scoped>\n",
       "    .dataframe tbody tr th:only-of-type {\n",
       "        vertical-align: middle;\n",
       "    }\n",
       "\n",
       "    .dataframe tbody tr th {\n",
       "        vertical-align: top;\n",
       "    }\n",
       "\n",
       "    .dataframe thead th {\n",
       "        text-align: right;\n",
       "    }\n",
       "</style>\n",
       "<table border=\"1\" class=\"dataframe\">\n",
       "  <thead>\n",
       "    <tr style=\"text-align: right;\">\n",
       "      <th></th>\n",
       "      <th>age_bucket</th>\n",
       "      <th>country_destination</th>\n",
       "      <th>gender</th>\n",
       "      <th>population_in_thousands</th>\n",
       "      <th>year</th>\n",
       "    </tr>\n",
       "  </thead>\n",
       "  <tbody>\n",
       "    <tr>\n",
       "      <th>0</th>\n",
       "      <td>100+</td>\n",
       "      <td>AU</td>\n",
       "      <td>male</td>\n",
       "      <td>1.0</td>\n",
       "      <td>2015.0</td>\n",
       "    </tr>\n",
       "    <tr>\n",
       "      <th>1</th>\n",
       "      <td>95-99</td>\n",
       "      <td>AU</td>\n",
       "      <td>male</td>\n",
       "      <td>9.0</td>\n",
       "      <td>2015.0</td>\n",
       "    </tr>\n",
       "    <tr>\n",
       "      <th>2</th>\n",
       "      <td>90-94</td>\n",
       "      <td>AU</td>\n",
       "      <td>male</td>\n",
       "      <td>47.0</td>\n",
       "      <td>2015.0</td>\n",
       "    </tr>\n",
       "    <tr>\n",
       "      <th>3</th>\n",
       "      <td>85-89</td>\n",
       "      <td>AU</td>\n",
       "      <td>male</td>\n",
       "      <td>118.0</td>\n",
       "      <td>2015.0</td>\n",
       "    </tr>\n",
       "    <tr>\n",
       "      <th>4</th>\n",
       "      <td>80-84</td>\n",
       "      <td>AU</td>\n",
       "      <td>male</td>\n",
       "      <td>199.0</td>\n",
       "      <td>2015.0</td>\n",
       "    </tr>\n",
       "  </tbody>\n",
       "</table>\n",
       "</div>"
      ],
      "text/plain": [
       "  age_bucket country_destination gender  population_in_thousands    year\n",
       "0       100+                  AU   male                      1.0  2015.0\n",
       "1      95-99                  AU   male                      9.0  2015.0\n",
       "2      90-94                  AU   male                     47.0  2015.0\n",
       "3      85-89                  AU   male                    118.0  2015.0\n",
       "4      80-84                  AU   male                    199.0  2015.0"
      ]
     },
     "execution_count": 68,
     "metadata": {},
     "output_type": "execute_result"
    }
   ],
   "source": [
    "age_gender_bkts.head()"
   ]
  },
  {
   "cell_type": "code",
   "execution_count": 69,
   "metadata": {
    "ExecuteTime": {
     "end_time": "2020-04-18T22:02:05.795858Z",
     "start_time": "2020-04-18T22:02:05.787818Z"
    }
   },
   "outputs": [],
   "source": [
    "age_gender_bkts['min_age'] = age_gender_bkts.age_bucket.apply(lambda x: int(x.split('-')[0]) if x!='100+' else 100)\n",
    "age_gender_bkts['max_age'] = age_gender_bkts.age_bucket.apply(lambda x: int(x.split('-')[-1]) if x!='100+' else 100)"
   ]
  },
  {
   "cell_type": "code",
   "execution_count": 70,
   "metadata": {
    "ExecuteTime": {
     "end_time": "2020-04-18T22:02:06.661183Z",
     "start_time": "2020-04-18T22:02:06.650889Z"
    }
   },
   "outputs": [
    {
     "data": {
      "text/html": [
       "<div>\n",
       "<style scoped>\n",
       "    .dataframe tbody tr th:only-of-type {\n",
       "        vertical-align: middle;\n",
       "    }\n",
       "\n",
       "    .dataframe tbody tr th {\n",
       "        vertical-align: top;\n",
       "    }\n",
       "\n",
       "    .dataframe thead th {\n",
       "        text-align: right;\n",
       "    }\n",
       "</style>\n",
       "<table border=\"1\" class=\"dataframe\">\n",
       "  <thead>\n",
       "    <tr style=\"text-align: right;\">\n",
       "      <th></th>\n",
       "      <th>age_bucket</th>\n",
       "      <th>country_destination</th>\n",
       "      <th>gender</th>\n",
       "      <th>population_in_thousands</th>\n",
       "      <th>year</th>\n",
       "      <th>min_age</th>\n",
       "      <th>max_age</th>\n",
       "    </tr>\n",
       "  </thead>\n",
       "  <tbody>\n",
       "    <tr>\n",
       "      <th>0</th>\n",
       "      <td>100+</td>\n",
       "      <td>AU</td>\n",
       "      <td>male</td>\n",
       "      <td>1.0</td>\n",
       "      <td>2015.0</td>\n",
       "      <td>100</td>\n",
       "      <td>100</td>\n",
       "    </tr>\n",
       "    <tr>\n",
       "      <th>1</th>\n",
       "      <td>95-99</td>\n",
       "      <td>AU</td>\n",
       "      <td>male</td>\n",
       "      <td>9.0</td>\n",
       "      <td>2015.0</td>\n",
       "      <td>95</td>\n",
       "      <td>99</td>\n",
       "    </tr>\n",
       "    <tr>\n",
       "      <th>2</th>\n",
       "      <td>90-94</td>\n",
       "      <td>AU</td>\n",
       "      <td>male</td>\n",
       "      <td>47.0</td>\n",
       "      <td>2015.0</td>\n",
       "      <td>90</td>\n",
       "      <td>94</td>\n",
       "    </tr>\n",
       "    <tr>\n",
       "      <th>3</th>\n",
       "      <td>85-89</td>\n",
       "      <td>AU</td>\n",
       "      <td>male</td>\n",
       "      <td>118.0</td>\n",
       "      <td>2015.0</td>\n",
       "      <td>85</td>\n",
       "      <td>89</td>\n",
       "    </tr>\n",
       "    <tr>\n",
       "      <th>4</th>\n",
       "      <td>80-84</td>\n",
       "      <td>AU</td>\n",
       "      <td>male</td>\n",
       "      <td>199.0</td>\n",
       "      <td>2015.0</td>\n",
       "      <td>80</td>\n",
       "      <td>84</td>\n",
       "    </tr>\n",
       "  </tbody>\n",
       "</table>\n",
       "</div>"
      ],
      "text/plain": [
       "  age_bucket country_destination gender  population_in_thousands    year  \\\n",
       "0       100+                  AU   male                      1.0  2015.0   \n",
       "1      95-99                  AU   male                      9.0  2015.0   \n",
       "2      90-94                  AU   male                     47.0  2015.0   \n",
       "3      85-89                  AU   male                    118.0  2015.0   \n",
       "4      80-84                  AU   male                    199.0  2015.0   \n",
       "\n",
       "   min_age  max_age  \n",
       "0      100      100  \n",
       "1       95       99  \n",
       "2       90       94  \n",
       "3       85       89  \n",
       "4       80       84  "
      ]
     },
     "execution_count": 70,
     "metadata": {},
     "output_type": "execute_result"
    }
   ],
   "source": [
    "age_gender_bkts.head()"
   ]
  },
  {
   "cell_type": "code",
   "execution_count": 72,
   "metadata": {
    "ExecuteTime": {
     "end_time": "2020-04-18T22:02:50.428141Z",
     "start_time": "2020-04-18T22:02:50.417640Z"
    },
    "collapsed": true
   },
   "outputs": [
    {
     "data": {
      "text/plain": [
       "age_bucket  country_destination\n",
       "0-4         AU                     2\n",
       "            CA                     2\n",
       "            DE                     2\n",
       "            ES                     2\n",
       "            FR                     2\n",
       "            GB                     2\n",
       "            IT                     2\n",
       "            NL                     2\n",
       "            PT                     2\n",
       "            US                     2\n",
       "10-14       AU                     2\n",
       "            CA                     2\n",
       "            DE                     2\n",
       "            ES                     2\n",
       "            FR                     2\n",
       "            GB                     2\n",
       "            IT                     2\n",
       "            NL                     2\n",
       "            PT                     2\n",
       "            US                     2\n",
       "100+        AU                     2\n",
       "            CA                     2\n",
       "            DE                     2\n",
       "            ES                     2\n",
       "            FR                     2\n",
       "            GB                     2\n",
       "            IT                     2\n",
       "            NL                     2\n",
       "            PT                     2\n",
       "            US                     2\n",
       "                                  ..\n",
       "85-89       AU                     2\n",
       "            CA                     2\n",
       "            DE                     2\n",
       "            ES                     2\n",
       "            FR                     2\n",
       "            GB                     2\n",
       "            IT                     2\n",
       "            NL                     2\n",
       "            PT                     2\n",
       "            US                     2\n",
       "90-94       AU                     2\n",
       "            CA                     2\n",
       "            DE                     2\n",
       "            ES                     2\n",
       "            FR                     2\n",
       "            GB                     2\n",
       "            IT                     2\n",
       "            NL                     2\n",
       "            PT                     2\n",
       "            US                     2\n",
       "95-99       AU                     2\n",
       "            CA                     2\n",
       "            DE                     2\n",
       "            ES                     2\n",
       "            FR                     2\n",
       "            GB                     2\n",
       "            IT                     2\n",
       "            NL                     2\n",
       "            PT                     2\n",
       "            US                     2\n",
       "Name: country_destination, Length: 210, dtype: int64"
      ]
     },
     "execution_count": 72,
     "metadata": {},
     "output_type": "execute_result"
    }
   ],
   "source": [
    "age_gender_bkts.groupby('age_bucket')['country_destination'].value_counts()"
   ]
  },
  {
   "cell_type": "code",
   "execution_count": 73,
   "metadata": {
    "ExecuteTime": {
     "end_time": "2020-04-18T22:02:53.038302Z",
     "start_time": "2020-04-18T22:02:53.033410Z"
    }
   },
   "outputs": [],
   "source": [
    "def feature_population(df_inp):\n",
    "    age_gender_bkts.gender = age_gender_bkts.gender.str.upper()\n",
    "    df_mg = (df_inp[['id','country_destination','age','gender']]\n",
    "             .merge(age_gender_bkts, on = ['country_destination', 'gender']\n",
    "                    , how='left'))\n",
    "    df_mg = df_mg[(df_mg.age <= df_mg.max_age) & (df_mg.age >= df_mg.min_age)][['id','population_in_thousands']]\n",
    "    df_mg.columns = ['id','population_dest']\n",
    "    return df_mg\n",
    "    "
   ]
  },
  {
   "cell_type": "code",
   "execution_count": 74,
   "metadata": {
    "ExecuteTime": {
     "end_time": "2020-04-18T22:02:53.600619Z",
     "start_time": "2020-04-18T22:02:53.597534Z"
    }
   },
   "outputs": [],
   "source": [
    "feature_dfs.update({'population': feature_population})"
   ]
  },
  {
   "cell_type": "markdown",
   "metadata": {},
   "source": [
    "# Sessions"
   ]
  },
  {
   "cell_type": "code",
   "execution_count": 75,
   "metadata": {
    "ExecuteTime": {
     "end_time": "2020-04-18T22:03:36.772387Z",
     "start_time": "2020-04-18T22:03:36.761677Z"
    }
   },
   "outputs": [
    {
     "data": {
      "text/html": [
       "<div>\n",
       "<style scoped>\n",
       "    .dataframe tbody tr th:only-of-type {\n",
       "        vertical-align: middle;\n",
       "    }\n",
       "\n",
       "    .dataframe tbody tr th {\n",
       "        vertical-align: top;\n",
       "    }\n",
       "\n",
       "    .dataframe thead th {\n",
       "        text-align: right;\n",
       "    }\n",
       "</style>\n",
       "<table border=\"1\" class=\"dataframe\">\n",
       "  <thead>\n",
       "    <tr style=\"text-align: right;\">\n",
       "      <th></th>\n",
       "      <th>user_id</th>\n",
       "      <th>action</th>\n",
       "      <th>action_type</th>\n",
       "      <th>action_detail</th>\n",
       "      <th>device_type</th>\n",
       "      <th>secs_elapsed</th>\n",
       "    </tr>\n",
       "  </thead>\n",
       "  <tbody>\n",
       "    <tr>\n",
       "      <th>0</th>\n",
       "      <td>d1mm9tcy42</td>\n",
       "      <td>lookup</td>\n",
       "      <td>NaN</td>\n",
       "      <td>NaN</td>\n",
       "      <td>Windows Desktop</td>\n",
       "      <td>319.0</td>\n",
       "    </tr>\n",
       "    <tr>\n",
       "      <th>1</th>\n",
       "      <td>d1mm9tcy42</td>\n",
       "      <td>search_results</td>\n",
       "      <td>click</td>\n",
       "      <td>view_search_results</td>\n",
       "      <td>Windows Desktop</td>\n",
       "      <td>67753.0</td>\n",
       "    </tr>\n",
       "    <tr>\n",
       "      <th>2</th>\n",
       "      <td>d1mm9tcy42</td>\n",
       "      <td>lookup</td>\n",
       "      <td>NaN</td>\n",
       "      <td>NaN</td>\n",
       "      <td>Windows Desktop</td>\n",
       "      <td>301.0</td>\n",
       "    </tr>\n",
       "    <tr>\n",
       "      <th>3</th>\n",
       "      <td>d1mm9tcy42</td>\n",
       "      <td>search_results</td>\n",
       "      <td>click</td>\n",
       "      <td>view_search_results</td>\n",
       "      <td>Windows Desktop</td>\n",
       "      <td>22141.0</td>\n",
       "    </tr>\n",
       "    <tr>\n",
       "      <th>4</th>\n",
       "      <td>d1mm9tcy42</td>\n",
       "      <td>lookup</td>\n",
       "      <td>NaN</td>\n",
       "      <td>NaN</td>\n",
       "      <td>Windows Desktop</td>\n",
       "      <td>435.0</td>\n",
       "    </tr>\n",
       "  </tbody>\n",
       "</table>\n",
       "</div>"
      ],
      "text/plain": [
       "      user_id          action action_type        action_detail  \\\n",
       "0  d1mm9tcy42          lookup         NaN                  NaN   \n",
       "1  d1mm9tcy42  search_results       click  view_search_results   \n",
       "2  d1mm9tcy42          lookup         NaN                  NaN   \n",
       "3  d1mm9tcy42  search_results       click  view_search_results   \n",
       "4  d1mm9tcy42          lookup         NaN                  NaN   \n",
       "\n",
       "       device_type  secs_elapsed  \n",
       "0  Windows Desktop         319.0  \n",
       "1  Windows Desktop       67753.0  \n",
       "2  Windows Desktop         301.0  \n",
       "3  Windows Desktop       22141.0  \n",
       "4  Windows Desktop         435.0  "
      ]
     },
     "execution_count": 75,
     "metadata": {},
     "output_type": "execute_result"
    }
   ],
   "source": [
    "sessions.head()"
   ]
  },
  {
   "cell_type": "code",
   "execution_count": 76,
   "metadata": {
    "ExecuteTime": {
     "end_time": "2020-04-18T22:03:37.031680Z",
     "start_time": "2020-04-18T22:03:37.026305Z"
    }
   },
   "outputs": [
    {
     "data": {
      "text/plain": [
       "(10567737, 6)"
      ]
     },
     "execution_count": 76,
     "metadata": {},
     "output_type": "execute_result"
    }
   ],
   "source": [
    "sessions.shape"
   ]
  },
  {
   "cell_type": "code",
   "execution_count": 71,
   "metadata": {},
   "outputs": [
    {
     "data": {
      "text/plain": [
       "array(['lookup', 'search_results', 'personalize', 'index',\n",
       "       'similar_listings', 'ajax_refresh_subtotal', 'show',\n",
       "       'header_userpic', 'ask_question', nan,\n",
       "       'other_hosting_reviews_first', 'hosting_social_proof',\n",
       "       'decision_tree', 'recent_reservations', 'faq_experiment_ids',\n",
       "       'multi', 'active', 'dashboard', 'create', 'confirm_email',\n",
       "       'show_personalize', 'verify', 'pending', 'requested', 'concierge',\n",
       "       'faq', 'clear_reservation', 'cancellation_policies',\n",
       "       'track_page_view', 'update', 'my', 'campaigns', 'notifications',\n",
       "       'listings', 'unavailabilities', 'ajax_lwlb_contact',\n",
       "       'ajax_check_dates', 'qt2', 'request_new_confirm_email',\n",
       "       'ajax_photo_widget_form_iframe', 'facebook_auto_login', 'identity',\n",
       "       'qt_reply_v2', 'travel_plans_current', 'complete_status',\n",
       "       'populate_from_facebook', 'kba_update', 'kba', 'login',\n",
       "       'authenticate', 'calendar_tab_inner2', 'other_hosting_reviews',\n",
       "       'social_connections', 'relationship', '15', 'collections', '12',\n",
       "       'jumio_redirect', 'jumio_token', 'login_modal', 'domains',\n",
       "       'toggle_archived_thread', 'search', 'edit_verification', 'edit',\n",
       "       'ajax_ldp', 'connect', 'account', 'delete', 'phone_number_widget',\n",
       "       'callback', 'signup_modal', '10', 'open_graph_setting', 'reviews',\n",
       "       'signup_login', 'payment_instruments', 'payment_methods', 'pay',\n",
       "       'unread', 'at_checkpoint', 'push_notification_callback',\n",
       "       'faq_category', 'localization_settings', 'update_notifications',\n",
       "       'manage_listing', 'set_user', 'references',\n",
       "       'languages_multiselect', 'salute', 'rentals', 'currencies', 'new',\n",
       "       'position', 'populate_help_dropdown', 'popular', 'popular_listing',\n",
       "       'listing', 'available', 'glob', 'this_hosting_reviews', 'widget',\n",
       "       'complete', 'profile_pic', 'signature', 'apply_reservation',\n",
       "       'ajax_statsd', 'travel', 'tos_confirm', 'uptodate',\n",
       "       'ajax_payout_options_by_country', 'payout_preferences',\n",
       "       'payout_update', 'ajax_payout_edit', 'pending_tickets', 'issue',\n",
       "       'contact_new', 'itinerary', 'receipt',\n",
       "       'update_hide_from_search_engines', 'settings', 'privacy',\n",
       "       'reviews_new', 'add_guests', 'ajax_image_upload', 'qt_with',\n",
       "       'webcam_upload', 'friends', 'ajax_google_translate_description',\n",
       "       'trust', 'guarantee', 'supported', 'countries', 'status', 'upload',\n",
       "       'authorize', 'rate', 'remove_dashboard_alert', 'ajax_get_results',\n",
       "       'recommend', 'change_currency', 'transaction_history_paginated',\n",
       "       'transaction_history', 'set_password', 'cancel',\n",
       "       'phone_verification_modal', 'submit_contact', 'detect_fb_session',\n",
       "       'tell_a_friend', 'change', 'clickthrough',\n",
       "       'multi_message_attributes', 'update_friends_display',\n",
       "       'my_listings', 'email_itinerary_colorbox', 'mobile_landing_page',\n",
       "       'create_ach', 'country_options', '11', 'host_2013', 'terms',\n",
       "       'multi_message', 'ajax_send_message', 'airbnb_picks',\n",
       "       'friends_new', 'reputation', 'complete_redirect',\n",
       "       'toggle_starred_thread', 'email_share', 'email_wishlist',\n",
       "       'destroy', 'add_note', 'overview', 'requirements',\n",
       "       'update_reservation_requirements', 'image_order', 'review_page',\n",
       "       'ajax_worth', 'place_worth', 'google_importer',\n",
       "       'change_availability', 'hospitality', 'change_password', 'feed',\n",
       "       'host_summary', 'ajax_price_and_availability', 'jumio',\n",
       "       'guest_booked_elsewhere', 'about_us', 'founders',\n",
       "       'travel_plans_previous', 'why_host', 'hospitality_standards',\n",
       "       'social', 'recommendations', 'update_cached', 'become_user',\n",
       "       'departments', 'department', 'office_location', 'photography',\n",
       "       'preapproval', 'maybe_information', 'toggle_availability',\n",
       "       'payoneer_account_redirect', 'forgot_password', 'new_host',\n",
       "       'payoneer_signup_complete', 'ajax_google_translate', 'onenight',\n",
       "       'approve', 'nyan', 'booking', 'payout_delete',\n",
       "       'change_default_payout', 'envoy_bank_details_redirect', 'respond',\n",
       "       'request_photography', 'zendesk_login_jwt', 'ajax_photo_widget',\n",
       "       'message', 'southern-europe', 'life', 'press_release',\n",
       "       'media_resources', 'press_news', 'referrer_status',\n",
       "       'create_multiple', 'load_more', 'create_paypal',\n",
       "       'locale_from_host', 'terms_and_conditions', 'invalid_action',\n",
       "       'photography_update', 'badge', 'apply', 'redirect', 'pricing',\n",
       "       'apply_code', 'slideshow', 'locations',\n",
       "       'ajax_google_translate_reviews', 'new_session', 'has_profile_pic',\n",
       "       'sublets', 'wishlists', 'reservation', 'localized',\n",
       "       'home_safety_landing', 'click', 'how_it_works',\n",
       "       'ajax_get_referrals_amt', 'phone_verification', 'satisfy',\n",
       "       'city_count', 'recommendation_page', 'press_content',\n",
       "       'guest_billing_receipt', 'ajax_payout_split_edit',\n",
       "       'print_confirmation', 'envoy_form',\n",
       "       'ajax_special_offer_dates_available',\n",
       "       'ajax_referral_banner_experiment_type', 'patch', 'questions',\n",
       "       'home_safety_terms', 'track_activity', 'check', 'sldf',\n",
       "       'recommended_listings', 'mobile_oauth_callback', 'show_code',\n",
       "       'signed_out_modal', 'plaxo_cb', 'views', 'friend_listing',\n",
       "       'ajax_referral_banner_type', 'deactivate', 'sync', 'social-media',\n",
       "       'united-states', 'email_by_key', 'disaster_action',\n",
       "       'views_campaign', 'update_message', 'spoken_languages',\n",
       "       'use_mobile_site', 'deauthorize', 'special_offer',\n",
       "       'top_destinations', 'create_airbnb', 'handle_vanity_url',\n",
       "       'impressions', 'message_to_host_focus',\n",
       "       'cancellation_policy_click', 'message_to_host_change',\n",
       "       'agree_terms_check', 'read_policy_click',\n",
       "       'phone_verification_success',\n",
       "       'phone_verification_number_sucessfully_submitted',\n",
       "       'phone_verification_number_submitted_for_sms',\n",
       "       'phone_verification_phone_number_removed', 'endpoint_error',\n",
       "       'p4_refund_policy_terms', 'apply_coupon_error_type',\n",
       "       'apply_coupon_error', 'apply_coupon_click', 'coupon_field_focus',\n",
       "       'coupon_code_click', 'agree_terms_uncheck', 'p4_terms',\n",
       "       'phone_verification_call_taking_too_long',\n",
       "       'phone_verification_number_submitted_for_call',\n",
       "       'phone_verification_error', 'apply_coupon_click_success',\n",
       "       'set_default', 'update_country_of_residence',\n",
       "       'open_hard_fallback_modal', 'tos_2014', 'views_campaign_rules',\n",
       "       'weibo_signup_referral_finish', 'signup_weibo_referral',\n",
       "       'similar_listings_v2', 'confirmation', 'signup_weibo',\n",
       "       'acculynk_load_pin_pad', 'acculynk_bin_check_success',\n",
       "       'acculynk_session_obtained', 'acculynk_pin_pad_inactive',\n",
       "       'reactivate', 'airbrb', 'desks', 'sandy', 'unsubscribe',\n",
       "       'host_cancel', 'acculynk_bin_check_failed',\n",
       "       'acculynk_pin_pad_error', 'custom_recommended_destinations',\n",
       "       'this_hosting_reviews_3000', 'reset_calendar', 'events',\n",
       "       'business_travel', 'add_guest_colorbox', 'hard_fallback_submit',\n",
       "       'add_business_address_colorbox', 'my_reservations', 'report',\n",
       "       'book', 'revert_to_admin', 'acculynk_pin_pad_success',\n",
       "       'south-america', 'braintree_client_token', 'view', 'stpcv',\n",
       "       'set_minimum_payout_amount', 'support_phone_numbers',\n",
       "       'refund_guest_cancellation', 'accept_decline', 'deactivated',\n",
       "       'rest-of-world'], dtype=object)"
      ]
     },
     "execution_count": 71,
     "metadata": {},
     "output_type": "execute_result"
    }
   ],
   "source": [
    "sessions.action.unique()"
   ]
  },
  {
   "cell_type": "code",
   "execution_count": 77,
   "metadata": {
    "ExecuteTime": {
     "end_time": "2020-04-18T22:03:41.938463Z",
     "start_time": "2020-04-18T22:03:41.155979Z"
    },
    "collapsed": true
   },
   "outputs": [
    {
     "data": {
      "text/plain": [
       "show                           2768278\n",
       "index                           843699\n",
       "search_results                  725226\n",
       "personalize                     706824\n",
       "search                          536057\n",
       "ajax_refresh_subtotal           487744\n",
       "update                          365130\n",
       "similar_listings                364624\n",
       "social_connections              339000\n",
       "reviews                         320591\n",
       "active                          188036\n",
       "similar_listings_v2             168788\n",
       "lookup                          162041\n",
       "create                          155887\n",
       "dashboard                       152952\n",
       "header_userpic                  141830\n",
       "collections                     124417\n",
       "edit                            109083\n",
       "campaigns                       105028\n",
       "track_page_view                  81117\n",
       "NaN                              79626\n",
       "unavailabilities                 78317\n",
       "qt2                              64651\n",
       "notifications                    59392\n",
       "confirm_email                    58726\n",
       "requested                        57034\n",
       "identity                         53631\n",
       "ajax_check_dates                 52517\n",
       "show_personalize                 50434\n",
       "ask_question                     44063\n",
       "                                ...   \n",
       "use_mobile_site                      2\n",
       "friend_listing                       2\n",
       "accept_decline                       2\n",
       "refund_guest_cancellation            2\n",
       "views_campaign_rules                 2\n",
       "stpcv                                2\n",
       "envoy_bank_details_redirect          2\n",
       "sandy                                2\n",
       "tos_2014                             2\n",
       "report                               2\n",
       "rest-of-world                        2\n",
       "views_campaign                       2\n",
       "preapproval                          2\n",
       "south-america                        2\n",
       "confirmation                         2\n",
       "deactivate                           1\n",
       "desks                                1\n",
       "revert_to_admin                      1\n",
       "reactivate                           1\n",
       "deactivated                          1\n",
       "events                               1\n",
       "update_message                       1\n",
       "deauthorize                          1\n",
       "plaxo_cb                             1\n",
       "sldf                                 1\n",
       "nyan                                 1\n",
       "acculynk_bin_check_failed            1\n",
       "wishlists                            1\n",
       "set_minimum_payout_amount            1\n",
       "host_cancel                          1\n",
       "Name: action, Length: 360, dtype: int64"
      ]
     },
     "execution_count": 77,
     "metadata": {},
     "output_type": "execute_result"
    }
   ],
   "source": [
    "sessions.action.value_counts(dropna=False)\n"
   ]
  },
  {
   "cell_type": "code",
   "execution_count": 73,
   "metadata": {},
   "outputs": [
    {
     "data": {
      "text/plain": [
       "view_search_results         1776885\n",
       "p3                          1376550\n",
       "NaN                         1126204\n",
       "-unknown-                   1031141\n",
       "wishlist_content_update      706824\n",
       "                             ...   \n",
       "special_offer_field               3\n",
       "tos_2014                          2\n",
       "host_refund_guest                 2\n",
       "host_respond_page                 2\n",
       "host_standard_suspension          1\n",
       "Name: action_detail, Length: 156, dtype: int64"
      ]
     },
     "execution_count": 73,
     "metadata": {},
     "output_type": "execute_result"
    }
   ],
   "source": [
    "sessions.action_detail.value_counts(dropna=False)"
   ]
  },
  {
   "cell_type": "code",
   "execution_count": 78,
   "metadata": {
    "ExecuteTime": {
     "end_time": "2020-04-18T22:03:56.829706Z",
     "start_time": "2020-04-18T22:03:54.767440Z"
    }
   },
   "outputs": [],
   "source": [
    "sessions.loc[sessions.action_detail=='-unknown-','action_detail']=np.nan\n",
    "sessions.loc[sessions.action_type=='-unknown-','action_type']=np.nan\n",
    "sessions.loc[sessions.action=='-unknown-','action']=np.nan\n"
   ]
  },
  {
   "cell_type": "code",
   "execution_count": 79,
   "metadata": {
    "ExecuteTime": {
     "end_time": "2020-04-18T22:03:58.736752Z",
     "start_time": "2020-04-18T22:03:58.727035Z"
    }
   },
   "outputs": [
    {
     "data": {
      "text/html": [
       "<div>\n",
       "<style scoped>\n",
       "    .dataframe tbody tr th:only-of-type {\n",
       "        vertical-align: middle;\n",
       "    }\n",
       "\n",
       "    .dataframe tbody tr th {\n",
       "        vertical-align: top;\n",
       "    }\n",
       "\n",
       "    .dataframe thead th {\n",
       "        text-align: right;\n",
       "    }\n",
       "</style>\n",
       "<table border=\"1\" class=\"dataframe\">\n",
       "  <thead>\n",
       "    <tr style=\"text-align: right;\">\n",
       "      <th></th>\n",
       "      <th>user_id</th>\n",
       "      <th>action</th>\n",
       "      <th>action_type</th>\n",
       "      <th>action_detail</th>\n",
       "      <th>device_type</th>\n",
       "      <th>secs_elapsed</th>\n",
       "    </tr>\n",
       "  </thead>\n",
       "  <tbody>\n",
       "    <tr>\n",
       "      <th>0</th>\n",
       "      <td>d1mm9tcy42</td>\n",
       "      <td>lookup</td>\n",
       "      <td>NaN</td>\n",
       "      <td>NaN</td>\n",
       "      <td>Windows Desktop</td>\n",
       "      <td>319.0</td>\n",
       "    </tr>\n",
       "    <tr>\n",
       "      <th>1</th>\n",
       "      <td>d1mm9tcy42</td>\n",
       "      <td>search_results</td>\n",
       "      <td>click</td>\n",
       "      <td>view_search_results</td>\n",
       "      <td>Windows Desktop</td>\n",
       "      <td>67753.0</td>\n",
       "    </tr>\n",
       "    <tr>\n",
       "      <th>2</th>\n",
       "      <td>d1mm9tcy42</td>\n",
       "      <td>lookup</td>\n",
       "      <td>NaN</td>\n",
       "      <td>NaN</td>\n",
       "      <td>Windows Desktop</td>\n",
       "      <td>301.0</td>\n",
       "    </tr>\n",
       "    <tr>\n",
       "      <th>3</th>\n",
       "      <td>d1mm9tcy42</td>\n",
       "      <td>search_results</td>\n",
       "      <td>click</td>\n",
       "      <td>view_search_results</td>\n",
       "      <td>Windows Desktop</td>\n",
       "      <td>22141.0</td>\n",
       "    </tr>\n",
       "    <tr>\n",
       "      <th>4</th>\n",
       "      <td>d1mm9tcy42</td>\n",
       "      <td>lookup</td>\n",
       "      <td>NaN</td>\n",
       "      <td>NaN</td>\n",
       "      <td>Windows Desktop</td>\n",
       "      <td>435.0</td>\n",
       "    </tr>\n",
       "  </tbody>\n",
       "</table>\n",
       "</div>"
      ],
      "text/plain": [
       "      user_id          action action_type        action_detail  \\\n",
       "0  d1mm9tcy42          lookup         NaN                  NaN   \n",
       "1  d1mm9tcy42  search_results       click  view_search_results   \n",
       "2  d1mm9tcy42          lookup         NaN                  NaN   \n",
       "3  d1mm9tcy42  search_results       click  view_search_results   \n",
       "4  d1mm9tcy42          lookup         NaN                  NaN   \n",
       "\n",
       "       device_type  secs_elapsed  \n",
       "0  Windows Desktop         319.0  \n",
       "1  Windows Desktop       67753.0  \n",
       "2  Windows Desktop         301.0  \n",
       "3  Windows Desktop       22141.0  \n",
       "4  Windows Desktop         435.0  "
      ]
     },
     "execution_count": 79,
     "metadata": {},
     "output_type": "execute_result"
    }
   ],
   "source": [
    "sessions.head()"
   ]
  },
  {
   "cell_type": "code",
   "execution_count": 81,
   "metadata": {
    "ExecuteTime": {
     "end_time": "2020-04-18T22:04:23.849643Z",
     "start_time": "2020-04-18T22:04:23.447064Z"
    }
   },
   "outputs": [
    {
     "data": {
      "text/plain": [
       "count    10431706.000000\n",
       "mean        19405.810751\n",
       "std         88884.243208\n",
       "min             0.000000\n",
       "25%           229.000000\n",
       "50%          1147.000000\n",
       "75%          8444.000000\n",
       "max       1799977.000000\n",
       "Name: secs_elapsed, dtype: object"
      ]
     },
     "execution_count": 81,
     "metadata": {},
     "output_type": "execute_result"
    }
   ],
   "source": [
    "sessions.secs_elapsed.describe().apply(lambda x: format(x, 'f'))"
   ]
  },
  {
   "cell_type": "code",
   "execution_count": 77,
   "metadata": {},
   "outputs": [],
   "source": [
    "median_per_action = pd.DataFrame(sessions.groupby('action')['secs_elapsed'].median()).sort_values('secs_elapsed')"
   ]
  },
  {
   "cell_type": "code",
   "execution_count": 78,
   "metadata": {},
   "outputs": [
    {
     "data": {
      "text/html": [
       "<div>\n",
       "<style scoped>\n",
       "    .dataframe tbody tr th:only-of-type {\n",
       "        vertical-align: middle;\n",
       "    }\n",
       "\n",
       "    .dataframe tbody tr th {\n",
       "        vertical-align: top;\n",
       "    }\n",
       "\n",
       "    .dataframe thead th {\n",
       "        text-align: right;\n",
       "    }\n",
       "</style>\n",
       "<table border=\"1\" class=\"dataframe\">\n",
       "  <thead>\n",
       "    <tr style=\"text-align: right;\">\n",
       "      <th></th>\n",
       "      <th>user_id</th>\n",
       "      <th>action</th>\n",
       "      <th>action_type</th>\n",
       "      <th>action_detail</th>\n",
       "      <th>device_type</th>\n",
       "      <th>secs_elapsed</th>\n",
       "    </tr>\n",
       "  </thead>\n",
       "  <tbody>\n",
       "    <tr>\n",
       "      <th>0</th>\n",
       "      <td>d1mm9tcy42</td>\n",
       "      <td>lookup</td>\n",
       "      <td>NaN</td>\n",
       "      <td>NaN</td>\n",
       "      <td>Windows Desktop</td>\n",
       "      <td>319.0</td>\n",
       "    </tr>\n",
       "    <tr>\n",
       "      <th>1</th>\n",
       "      <td>d1mm9tcy42</td>\n",
       "      <td>search_results</td>\n",
       "      <td>click</td>\n",
       "      <td>view_search_results</td>\n",
       "      <td>Windows Desktop</td>\n",
       "      <td>67753.0</td>\n",
       "    </tr>\n",
       "    <tr>\n",
       "      <th>2</th>\n",
       "      <td>d1mm9tcy42</td>\n",
       "      <td>lookup</td>\n",
       "      <td>NaN</td>\n",
       "      <td>NaN</td>\n",
       "      <td>Windows Desktop</td>\n",
       "      <td>301.0</td>\n",
       "    </tr>\n",
       "    <tr>\n",
       "      <th>3</th>\n",
       "      <td>d1mm9tcy42</td>\n",
       "      <td>search_results</td>\n",
       "      <td>click</td>\n",
       "      <td>view_search_results</td>\n",
       "      <td>Windows Desktop</td>\n",
       "      <td>22141.0</td>\n",
       "    </tr>\n",
       "    <tr>\n",
       "      <th>4</th>\n",
       "      <td>d1mm9tcy42</td>\n",
       "      <td>lookup</td>\n",
       "      <td>NaN</td>\n",
       "      <td>NaN</td>\n",
       "      <td>Windows Desktop</td>\n",
       "      <td>435.0</td>\n",
       "    </tr>\n",
       "  </tbody>\n",
       "</table>\n",
       "</div>"
      ],
      "text/plain": [
       "      user_id          action action_type        action_detail  \\\n",
       "0  d1mm9tcy42          lookup         NaN                  NaN   \n",
       "1  d1mm9tcy42  search_results       click  view_search_results   \n",
       "2  d1mm9tcy42          lookup         NaN                  NaN   \n",
       "3  d1mm9tcy42  search_results       click  view_search_results   \n",
       "4  d1mm9tcy42          lookup         NaN                  NaN   \n",
       "\n",
       "       device_type  secs_elapsed  \n",
       "0  Windows Desktop         319.0  \n",
       "1  Windows Desktop       67753.0  \n",
       "2  Windows Desktop         301.0  \n",
       "3  Windows Desktop       22141.0  \n",
       "4  Windows Desktop         435.0  "
      ]
     },
     "execution_count": 78,
     "metadata": {},
     "output_type": "execute_result"
    }
   ],
   "source": [
    "sessions.head()"
   ]
  },
  {
   "cell_type": "raw",
   "metadata": {},
   "source": [
    "Imputing null secs_elapsed with median from the corresponding action"
   ]
  },
  {
   "cell_type": "code",
   "execution_count": 82,
   "metadata": {
    "ExecuteTime": {
     "end_time": "2020-04-18T22:04:52.235484Z",
     "start_time": "2020-04-18T22:04:51.200333Z"
    }
   },
   "outputs": [],
   "source": [
    "sessions[\"secs_elapsed\"].fillna(sessions.groupby(\"action\")[\"secs_elapsed\"].transform(\"median\"), inplace=True)"
   ]
  },
  {
   "cell_type": "code",
   "execution_count": 83,
   "metadata": {
    "ExecuteTime": {
     "end_time": "2020-04-18T22:04:53.786790Z",
     "start_time": "2020-04-18T22:04:53.415846Z"
    }
   },
   "outputs": [
    {
     "data": {
      "text/plain": [
       "count    10552284.000000\n",
       "mean        19323.098796\n",
       "std         88382.198934\n",
       "min             0.000000\n",
       "25%           236.000000\n",
       "50%          1174.000000\n",
       "75%          8999.000000\n",
       "max       1799977.000000\n",
       "Name: secs_elapsed, dtype: object"
      ]
     },
     "execution_count": 83,
     "metadata": {},
     "output_type": "execute_result"
    }
   ],
   "source": [
    "sessions.secs_elapsed.describe().apply(lambda x: format(x, 'f'))"
   ]
  },
  {
   "cell_type": "code",
   "execution_count": 84,
   "metadata": {
    "ExecuteTime": {
     "end_time": "2020-04-18T22:05:17.141183Z",
     "start_time": "2020-04-18T22:05:17.136370Z"
    }
   },
   "outputs": [],
   "source": [
    "def sess_features(x):\n",
    "    d = {}\n",
    "    d['action_distinct_count'] = x['action'].nunique()\n",
    "    d['device_distinct_count'] = x['device_type'].nunique()\n",
    "    d['sessions_count'] = len(x)\n",
    "    d['min_secs'] = x['secs_elapsed'].min()\n",
    "    d['total_secs'] = x['secs_elapsed'].sum()\n",
    "    d['avg_secs'] = x['secs_elapsed'].mean()\n",
    "    return pd.Series(d, index=['action_distinct_count', 'device_distinct_count'\n",
    "                               , 'sessions_count', 'min_secs', 'total_secs', 'avg_secs'\n",
    "                              ])\n"
   ]
  },
  {
   "cell_type": "code",
   "execution_count": 85,
   "metadata": {
    "ExecuteTime": {
     "end_time": "2020-04-18T22:07:50.563556Z",
     "start_time": "2020-04-18T22:05:24.088149Z"
    }
   },
   "outputs": [],
   "source": [
    "sessions_features = sessions.groupby('user_id').apply(sess_features)"
   ]
  },
  {
   "cell_type": "code",
   "execution_count": 86,
   "metadata": {
    "ExecuteTime": {
     "end_time": "2020-04-18T22:07:52.202824Z",
     "start_time": "2020-04-18T22:07:52.192353Z"
    }
   },
   "outputs": [
    {
     "data": {
      "text/html": [
       "<div>\n",
       "<style scoped>\n",
       "    .dataframe tbody tr th:only-of-type {\n",
       "        vertical-align: middle;\n",
       "    }\n",
       "\n",
       "    .dataframe tbody tr th {\n",
       "        vertical-align: top;\n",
       "    }\n",
       "\n",
       "    .dataframe thead th {\n",
       "        text-align: right;\n",
       "    }\n",
       "</style>\n",
       "<table border=\"1\" class=\"dataframe\">\n",
       "  <thead>\n",
       "    <tr style=\"text-align: right;\">\n",
       "      <th></th>\n",
       "      <th>action_distinct_count</th>\n",
       "      <th>device_distinct_count</th>\n",
       "      <th>sessions_count</th>\n",
       "      <th>min_secs</th>\n",
       "      <th>total_secs</th>\n",
       "      <th>avg_secs</th>\n",
       "    </tr>\n",
       "    <tr>\n",
       "      <th>user_id</th>\n",
       "      <th></th>\n",
       "      <th></th>\n",
       "      <th></th>\n",
       "      <th></th>\n",
       "      <th></th>\n",
       "      <th></th>\n",
       "    </tr>\n",
       "  </thead>\n",
       "  <tbody>\n",
       "    <tr>\n",
       "      <th>00023iyk9l</th>\n",
       "      <td>13.0</td>\n",
       "      <td>2.0</td>\n",
       "      <td>40.0</td>\n",
       "      <td>0.0</td>\n",
       "      <td>881566.0</td>\n",
       "      <td>22039.150000</td>\n",
       "    </tr>\n",
       "    <tr>\n",
       "      <th>0010k6l0om</th>\n",
       "      <td>11.0</td>\n",
       "      <td>1.0</td>\n",
       "      <td>63.0</td>\n",
       "      <td>3.0</td>\n",
       "      <td>600213.0</td>\n",
       "      <td>9527.190476</td>\n",
       "    </tr>\n",
       "    <tr>\n",
       "      <th>001wyh0pz8</th>\n",
       "      <td>10.0</td>\n",
       "      <td>1.0</td>\n",
       "      <td>90.0</td>\n",
       "      <td>35.0</td>\n",
       "      <td>293405.0</td>\n",
       "      <td>3260.055556</td>\n",
       "    </tr>\n",
       "    <tr>\n",
       "      <th>0028jgx1x1</th>\n",
       "      <td>5.0</td>\n",
       "      <td>2.0</td>\n",
       "      <td>31.0</td>\n",
       "      <td>3.0</td>\n",
       "      <td>307450.0</td>\n",
       "      <td>9917.741935</td>\n",
       "    </tr>\n",
       "    <tr>\n",
       "      <th>002qnbzfs5</th>\n",
       "      <td>25.0</td>\n",
       "      <td>2.0</td>\n",
       "      <td>789.0</td>\n",
       "      <td>0.0</td>\n",
       "      <td>6487353.0</td>\n",
       "      <td>8222.247148</td>\n",
       "    </tr>\n",
       "  </tbody>\n",
       "</table>\n",
       "</div>"
      ],
      "text/plain": [
       "            action_distinct_count  device_distinct_count  sessions_count  \\\n",
       "user_id                                                                    \n",
       "00023iyk9l                   13.0                    2.0            40.0   \n",
       "0010k6l0om                   11.0                    1.0            63.0   \n",
       "001wyh0pz8                   10.0                    1.0            90.0   \n",
       "0028jgx1x1                    5.0                    2.0            31.0   \n",
       "002qnbzfs5                   25.0                    2.0           789.0   \n",
       "\n",
       "            min_secs  total_secs      avg_secs  \n",
       "user_id                                         \n",
       "00023iyk9l       0.0    881566.0  22039.150000  \n",
       "0010k6l0om       3.0    600213.0   9527.190476  \n",
       "001wyh0pz8      35.0    293405.0   3260.055556  \n",
       "0028jgx1x1       3.0    307450.0   9917.741935  \n",
       "002qnbzfs5       0.0   6487353.0   8222.247148  "
      ]
     },
     "execution_count": 86,
     "metadata": {},
     "output_type": "execute_result"
    }
   ],
   "source": [
    "sessions_features.head()"
   ]
  },
  {
   "cell_type": "code",
   "execution_count": 87,
   "metadata": {
    "ExecuteTime": {
     "end_time": "2020-04-18T22:07:54.091074Z",
     "start_time": "2020-04-18T22:07:54.014300Z"
    }
   },
   "outputs": [
    {
     "data": {
      "text/plain": [
       "135483"
      ]
     },
     "execution_count": 87,
     "metadata": {},
     "output_type": "execute_result"
    }
   ],
   "source": [
    "sessions_features.reset_index().user_id.nunique()"
   ]
  },
  {
   "cell_type": "code",
   "execution_count": 88,
   "metadata": {
    "ExecuteTime": {
     "end_time": "2020-04-18T22:07:55.450991Z",
     "start_time": "2020-04-18T22:07:55.447107Z"
    }
   },
   "outputs": [],
   "source": [
    "def feature_sessions(df_inp):\n",
    "    return df_inp[['id']].merge(sessions_features.reset_index(), left_on='id', right_on='user_id', how='left').drop(['user_id'], axis=1)"
   ]
  },
  {
   "cell_type": "code",
   "execution_count": 89,
   "metadata": {
    "ExecuteTime": {
     "end_time": "2020-04-18T22:07:58.702193Z",
     "start_time": "2020-04-18T22:07:58.698712Z"
    }
   },
   "outputs": [],
   "source": [
    "feature_dfs.update({'sessions': feature_sessions})"
   ]
  },
  {
   "cell_type": "markdown",
   "metadata": {},
   "source": [
    "# Get all features"
   ]
  },
  {
   "cell_type": "code",
   "execution_count": 90,
   "metadata": {
    "ExecuteTime": {
     "end_time": "2020-04-18T22:08:04.326407Z",
     "start_time": "2020-04-18T22:08:04.320016Z"
    }
   },
   "outputs": [],
   "source": [
    "def features_final(df_inp):\n",
    "    df_features = df_inp[['id','pop']].copy()\n",
    "    for key, func in feature_dfs.items():\n",
    "        if key=='population' and 'country_destination' not in df_inp.columns:\n",
    "            continue\n",
    "        df_tmp = func(df_inp)\n",
    "#         print(key)\n",
    "#         print(df_tmp.shape)\n",
    "        df_features = df_features.merge(df_tmp, on='id', how='left')\n",
    "    df_features = df_features.fillna(-1)\n",
    "    return df_features\n",
    "        "
   ]
  },
  {
   "cell_type": "code",
   "execution_count": 91,
   "metadata": {
    "ExecuteTime": {
     "end_time": "2020-04-18T22:08:10.116644Z",
     "start_time": "2020-04-18T22:08:07.409692Z"
    }
   },
   "outputs": [],
   "source": [
    "train_features = features_final(train_users).merge(train_users[['id','country_destination']], on = 'id')"
   ]
  },
  {
   "cell_type": "code",
   "execution_count": 89,
   "metadata": {},
   "outputs": [
    {
     "data": {
      "text/plain": [
       "(213451, 84)"
      ]
     },
     "execution_count": 89,
     "metadata": {},
     "output_type": "execute_result"
    }
   ],
   "source": [
    "train_features.shape"
   ]
  },
  {
   "cell_type": "code",
   "execution_count": 332,
   "metadata": {},
   "outputs": [],
   "source": [
    "train_features.to_csv('train_features.csv', header=True)"
   ]
  },
  {
   "cell_type": "code",
   "execution_count": 92,
   "metadata": {
    "ExecuteTime": {
     "end_time": "2020-04-18T22:08:22.691880Z",
     "start_time": "2020-04-18T22:08:19.830664Z"
    },
    "scrolled": false
   },
   "outputs": [],
   "source": [
    "all_features = features_final(data_all)"
   ]
  },
  {
   "cell_type": "code",
   "execution_count": 93,
   "metadata": {
    "ExecuteTime": {
     "end_time": "2020-04-18T22:08:23.423237Z",
     "start_time": "2020-04-18T22:08:23.418192Z"
    }
   },
   "outputs": [
    {
     "data": {
      "text/plain": [
       "(275547, 86)"
      ]
     },
     "execution_count": 93,
     "metadata": {},
     "output_type": "execute_result"
    }
   ],
   "source": [
    "all_features.shape"
   ]
  },
  {
   "cell_type": "code",
   "execution_count": 94,
   "metadata": {
    "ExecuteTime": {
     "end_time": "2020-04-18T22:09:32.909545Z",
     "start_time": "2020-04-18T22:09:15.888115Z"
    }
   },
   "outputs": [],
   "source": [
    "all_features.to_csv('all_features.csv', header=True)"
   ]
  },
  {
   "cell_type": "code",
   "execution_count": 92,
   "metadata": {
    "scrolled": true
   },
   "outputs": [
    {
     "data": {
      "text/html": [
       "<div>\n",
       "<style scoped>\n",
       "    .dataframe tbody tr th:only-of-type {\n",
       "        vertical-align: middle;\n",
       "    }\n",
       "\n",
       "    .dataframe tbody tr th {\n",
       "        vertical-align: top;\n",
       "    }\n",
       "\n",
       "    .dataframe thead th {\n",
       "        text-align: right;\n",
       "    }\n",
       "</style>\n",
       "<table border=\"1\" class=\"dataframe\">\n",
       "  <thead>\n",
       "    <tr style=\"text-align: right;\">\n",
       "      <th></th>\n",
       "      <th>id</th>\n",
       "      <th>pop</th>\n",
       "      <th>diff_firstbooking_datecreated</th>\n",
       "      <th>diff_firstbooking_firstactive</th>\n",
       "      <th>gender_feature</th>\n",
       "      <th>age</th>\n",
       "      <th>signup_method_basic</th>\n",
       "      <th>signup_method_facebook</th>\n",
       "      <th>signup_method_google</th>\n",
       "      <th>signup_method_weibo</th>\n",
       "      <th>...</th>\n",
       "      <th>first_browser_Yandex.Browser</th>\n",
       "      <th>first_browser_wOSBrowser</th>\n",
       "      <th>language_levenshtein_distance</th>\n",
       "      <th>distance_km</th>\n",
       "      <th>action_distinct_count</th>\n",
       "      <th>device_distinct_count</th>\n",
       "      <th>sessions_count</th>\n",
       "      <th>min_secs</th>\n",
       "      <th>total_secs</th>\n",
       "      <th>avg_secs</th>\n",
       "    </tr>\n",
       "  </thead>\n",
       "  <tbody>\n",
       "    <tr>\n",
       "      <th>0</th>\n",
       "      <td>gxn3p5htnn</td>\n",
       "      <td>train</td>\n",
       "      <td>-1.0</td>\n",
       "      <td>-1.0</td>\n",
       "      <td>-1</td>\n",
       "      <td>-1.0</td>\n",
       "      <td>0</td>\n",
       "      <td>1</td>\n",
       "      <td>0</td>\n",
       "      <td>0</td>\n",
       "      <td>...</td>\n",
       "      <td>0</td>\n",
       "      <td>0</td>\n",
       "      <td>-1.0</td>\n",
       "      <td>-1.0</td>\n",
       "      <td>-1.0</td>\n",
       "      <td>-1.0</td>\n",
       "      <td>-1.0</td>\n",
       "      <td>-1.0</td>\n",
       "      <td>-1.0</td>\n",
       "      <td>-1.000000</td>\n",
       "    </tr>\n",
       "    <tr>\n",
       "      <th>1</th>\n",
       "      <td>820tgsjxq7</td>\n",
       "      <td>train</td>\n",
       "      <td>-1.0</td>\n",
       "      <td>-1.0</td>\n",
       "      <td>0</td>\n",
       "      <td>38.0</td>\n",
       "      <td>0</td>\n",
       "      <td>1</td>\n",
       "      <td>0</td>\n",
       "      <td>0</td>\n",
       "      <td>...</td>\n",
       "      <td>0</td>\n",
       "      <td>0</td>\n",
       "      <td>-1.0</td>\n",
       "      <td>-1.0</td>\n",
       "      <td>-1.0</td>\n",
       "      <td>-1.0</td>\n",
       "      <td>-1.0</td>\n",
       "      <td>-1.0</td>\n",
       "      <td>-1.0</td>\n",
       "      <td>-1.000000</td>\n",
       "    </tr>\n",
       "    <tr>\n",
       "      <th>2</th>\n",
       "      <td>4ft3gnwmtx</td>\n",
       "      <td>train</td>\n",
       "      <td>-57.0</td>\n",
       "      <td>419.0</td>\n",
       "      <td>1</td>\n",
       "      <td>56.0</td>\n",
       "      <td>1</td>\n",
       "      <td>0</td>\n",
       "      <td>0</td>\n",
       "      <td>0</td>\n",
       "      <td>...</td>\n",
       "      <td>0</td>\n",
       "      <td>0</td>\n",
       "      <td>-1.0</td>\n",
       "      <td>-1.0</td>\n",
       "      <td>-1.0</td>\n",
       "      <td>-1.0</td>\n",
       "      <td>-1.0</td>\n",
       "      <td>-1.0</td>\n",
       "      <td>-1.0</td>\n",
       "      <td>-1.000000</td>\n",
       "    </tr>\n",
       "    <tr>\n",
       "      <th>3</th>\n",
       "      <td>bjjt8pjhuk</td>\n",
       "      <td>train</td>\n",
       "      <td>278.0</td>\n",
       "      <td>1043.0</td>\n",
       "      <td>1</td>\n",
       "      <td>42.0</td>\n",
       "      <td>0</td>\n",
       "      <td>1</td>\n",
       "      <td>0</td>\n",
       "      <td>0</td>\n",
       "      <td>...</td>\n",
       "      <td>0</td>\n",
       "      <td>0</td>\n",
       "      <td>-1.0</td>\n",
       "      <td>-1.0</td>\n",
       "      <td>-1.0</td>\n",
       "      <td>-1.0</td>\n",
       "      <td>-1.0</td>\n",
       "      <td>-1.0</td>\n",
       "      <td>-1.0</td>\n",
       "      <td>-1.000000</td>\n",
       "    </tr>\n",
       "    <tr>\n",
       "      <th>4</th>\n",
       "      <td>87mebub9p4</td>\n",
       "      <td>train</td>\n",
       "      <td>-208.0</td>\n",
       "      <td>72.0</td>\n",
       "      <td>-1</td>\n",
       "      <td>41.0</td>\n",
       "      <td>1</td>\n",
       "      <td>0</td>\n",
       "      <td>0</td>\n",
       "      <td>0</td>\n",
       "      <td>...</td>\n",
       "      <td>0</td>\n",
       "      <td>0</td>\n",
       "      <td>-1.0</td>\n",
       "      <td>-1.0</td>\n",
       "      <td>-1.0</td>\n",
       "      <td>-1.0</td>\n",
       "      <td>-1.0</td>\n",
       "      <td>-1.0</td>\n",
       "      <td>-1.0</td>\n",
       "      <td>-1.000000</td>\n",
       "    </tr>\n",
       "    <tr>\n",
       "      <th>...</th>\n",
       "      <td>...</td>\n",
       "      <td>...</td>\n",
       "      <td>...</td>\n",
       "      <td>...</td>\n",
       "      <td>...</td>\n",
       "      <td>...</td>\n",
       "      <td>...</td>\n",
       "      <td>...</td>\n",
       "      <td>...</td>\n",
       "      <td>...</td>\n",
       "      <td>...</td>\n",
       "      <td>...</td>\n",
       "      <td>...</td>\n",
       "      <td>...</td>\n",
       "      <td>...</td>\n",
       "      <td>...</td>\n",
       "      <td>...</td>\n",
       "      <td>...</td>\n",
       "      <td>...</td>\n",
       "      <td>...</td>\n",
       "      <td>...</td>\n",
       "    </tr>\n",
       "    <tr>\n",
       "      <th>275542</th>\n",
       "      <td>cv0na2lf5a</td>\n",
       "      <td>test</td>\n",
       "      <td>-1.0</td>\n",
       "      <td>-1.0</td>\n",
       "      <td>-1</td>\n",
       "      <td>31.0</td>\n",
       "      <td>1</td>\n",
       "      <td>0</td>\n",
       "      <td>0</td>\n",
       "      <td>0</td>\n",
       "      <td>...</td>\n",
       "      <td>0</td>\n",
       "      <td>0</td>\n",
       "      <td>-1.0</td>\n",
       "      <td>-1.0</td>\n",
       "      <td>29.0</td>\n",
       "      <td>2.0</td>\n",
       "      <td>93.0</td>\n",
       "      <td>1.0</td>\n",
       "      <td>2544672.0</td>\n",
       "      <td>27362.064516</td>\n",
       "    </tr>\n",
       "    <tr>\n",
       "      <th>275543</th>\n",
       "      <td>zp8xfonng8</td>\n",
       "      <td>test</td>\n",
       "      <td>-1.0</td>\n",
       "      <td>-1.0</td>\n",
       "      <td>-1</td>\n",
       "      <td>-1.0</td>\n",
       "      <td>1</td>\n",
       "      <td>0</td>\n",
       "      <td>0</td>\n",
       "      <td>0</td>\n",
       "      <td>...</td>\n",
       "      <td>0</td>\n",
       "      <td>0</td>\n",
       "      <td>-1.0</td>\n",
       "      <td>-1.0</td>\n",
       "      <td>7.0</td>\n",
       "      <td>1.0</td>\n",
       "      <td>20.0</td>\n",
       "      <td>8.0</td>\n",
       "      <td>62058.0</td>\n",
       "      <td>3102.900000</td>\n",
       "    </tr>\n",
       "    <tr>\n",
       "      <th>275544</th>\n",
       "      <td>fa6260ziny</td>\n",
       "      <td>test</td>\n",
       "      <td>-1.0</td>\n",
       "      <td>-1.0</td>\n",
       "      <td>-1</td>\n",
       "      <td>-1.0</td>\n",
       "      <td>1</td>\n",
       "      <td>0</td>\n",
       "      <td>0</td>\n",
       "      <td>0</td>\n",
       "      <td>...</td>\n",
       "      <td>0</td>\n",
       "      <td>0</td>\n",
       "      <td>-1.0</td>\n",
       "      <td>-1.0</td>\n",
       "      <td>17.0</td>\n",
       "      <td>1.0</td>\n",
       "      <td>78.0</td>\n",
       "      <td>6.0</td>\n",
       "      <td>836967.0</td>\n",
       "      <td>10730.346154</td>\n",
       "    </tr>\n",
       "    <tr>\n",
       "      <th>275545</th>\n",
       "      <td>87k0fy4ugm</td>\n",
       "      <td>test</td>\n",
       "      <td>-1.0</td>\n",
       "      <td>-1.0</td>\n",
       "      <td>-1</td>\n",
       "      <td>-1.0</td>\n",
       "      <td>1</td>\n",
       "      <td>0</td>\n",
       "      <td>0</td>\n",
       "      <td>0</td>\n",
       "      <td>...</td>\n",
       "      <td>0</td>\n",
       "      <td>0</td>\n",
       "      <td>-1.0</td>\n",
       "      <td>-1.0</td>\n",
       "      <td>11.0</td>\n",
       "      <td>2.0</td>\n",
       "      <td>15.0</td>\n",
       "      <td>17.0</td>\n",
       "      <td>362508.0</td>\n",
       "      <td>24167.200000</td>\n",
       "    </tr>\n",
       "    <tr>\n",
       "      <th>275546</th>\n",
       "      <td>9uqfg8txu3</td>\n",
       "      <td>test</td>\n",
       "      <td>-1.0</td>\n",
       "      <td>-1.0</td>\n",
       "      <td>1</td>\n",
       "      <td>49.0</td>\n",
       "      <td>1</td>\n",
       "      <td>0</td>\n",
       "      <td>0</td>\n",
       "      <td>0</td>\n",
       "      <td>...</td>\n",
       "      <td>0</td>\n",
       "      <td>0</td>\n",
       "      <td>-1.0</td>\n",
       "      <td>-1.0</td>\n",
       "      <td>11.0</td>\n",
       "      <td>2.0</td>\n",
       "      <td>16.0</td>\n",
       "      <td>353.0</td>\n",
       "      <td>2818214.0</td>\n",
       "      <td>176138.375000</td>\n",
       "    </tr>\n",
       "  </tbody>\n",
       "</table>\n",
       "<p>275547 rows × 86 columns</p>\n",
       "</div>"
      ],
      "text/plain": [
       "                id    pop  diff_firstbooking_datecreated  \\\n",
       "0       gxn3p5htnn  train                           -1.0   \n",
       "1       820tgsjxq7  train                           -1.0   \n",
       "2       4ft3gnwmtx  train                          -57.0   \n",
       "3       bjjt8pjhuk  train                          278.0   \n",
       "4       87mebub9p4  train                         -208.0   \n",
       "...            ...    ...                            ...   \n",
       "275542  cv0na2lf5a   test                           -1.0   \n",
       "275543  zp8xfonng8   test                           -1.0   \n",
       "275544  fa6260ziny   test                           -1.0   \n",
       "275545  87k0fy4ugm   test                           -1.0   \n",
       "275546  9uqfg8txu3   test                           -1.0   \n",
       "\n",
       "        diff_firstbooking_firstactive  gender_feature   age  \\\n",
       "0                                -1.0              -1  -1.0   \n",
       "1                                -1.0               0  38.0   \n",
       "2                               419.0               1  56.0   \n",
       "3                              1043.0               1  42.0   \n",
       "4                                72.0              -1  41.0   \n",
       "...                               ...             ...   ...   \n",
       "275542                           -1.0              -1  31.0   \n",
       "275543                           -1.0              -1  -1.0   \n",
       "275544                           -1.0              -1  -1.0   \n",
       "275545                           -1.0              -1  -1.0   \n",
       "275546                           -1.0               1  49.0   \n",
       "\n",
       "        signup_method_basic  signup_method_facebook  signup_method_google  \\\n",
       "0                         0                       1                     0   \n",
       "1                         0                       1                     0   \n",
       "2                         1                       0                     0   \n",
       "3                         0                       1                     0   \n",
       "4                         1                       0                     0   \n",
       "...                     ...                     ...                   ...   \n",
       "275542                    1                       0                     0   \n",
       "275543                    1                       0                     0   \n",
       "275544                    1                       0                     0   \n",
       "275545                    1                       0                     0   \n",
       "275546                    1                       0                     0   \n",
       "\n",
       "        signup_method_weibo  ...  first_browser_Yandex.Browser  \\\n",
       "0                         0  ...                             0   \n",
       "1                         0  ...                             0   \n",
       "2                         0  ...                             0   \n",
       "3                         0  ...                             0   \n",
       "4                         0  ...                             0   \n",
       "...                     ...  ...                           ...   \n",
       "275542                    0  ...                             0   \n",
       "275543                    0  ...                             0   \n",
       "275544                    0  ...                             0   \n",
       "275545                    0  ...                             0   \n",
       "275546                    0  ...                             0   \n",
       "\n",
       "        first_browser_wOSBrowser  language_levenshtein_distance  distance_km  \\\n",
       "0                              0                           -1.0         -1.0   \n",
       "1                              0                           -1.0         -1.0   \n",
       "2                              0                           -1.0         -1.0   \n",
       "3                              0                           -1.0         -1.0   \n",
       "4                              0                           -1.0         -1.0   \n",
       "...                          ...                            ...          ...   \n",
       "275542                         0                           -1.0         -1.0   \n",
       "275543                         0                           -1.0         -1.0   \n",
       "275544                         0                           -1.0         -1.0   \n",
       "275545                         0                           -1.0         -1.0   \n",
       "275546                         0                           -1.0         -1.0   \n",
       "\n",
       "        action_distinct_count  device_distinct_count  sessions_count  \\\n",
       "0                        -1.0                   -1.0            -1.0   \n",
       "1                        -1.0                   -1.0            -1.0   \n",
       "2                        -1.0                   -1.0            -1.0   \n",
       "3                        -1.0                   -1.0            -1.0   \n",
       "4                        -1.0                   -1.0            -1.0   \n",
       "...                       ...                    ...             ...   \n",
       "275542                   29.0                    2.0            93.0   \n",
       "275543                    7.0                    1.0            20.0   \n",
       "275544                   17.0                    1.0            78.0   \n",
       "275545                   11.0                    2.0            15.0   \n",
       "275546                   11.0                    2.0            16.0   \n",
       "\n",
       "        min_secs  total_secs       avg_secs  \n",
       "0           -1.0        -1.0      -1.000000  \n",
       "1           -1.0        -1.0      -1.000000  \n",
       "2           -1.0        -1.0      -1.000000  \n",
       "3           -1.0        -1.0      -1.000000  \n",
       "4           -1.0        -1.0      -1.000000  \n",
       "...          ...         ...            ...  \n",
       "275542       1.0   2544672.0   27362.064516  \n",
       "275543       8.0     62058.0    3102.900000  \n",
       "275544       6.0    836967.0   10730.346154  \n",
       "275545      17.0    362508.0   24167.200000  \n",
       "275546     353.0   2818214.0  176138.375000  \n",
       "\n",
       "[275547 rows x 86 columns]"
      ]
     },
     "execution_count": 92,
     "metadata": {},
     "output_type": "execute_result"
    }
   ],
   "source": [
    "all_features"
   ]
  },
  {
   "cell_type": "code",
   "execution_count": 95,
   "metadata": {
    "ExecuteTime": {
     "end_time": "2020-04-18T22:09:39.712245Z",
     "start_time": "2020-04-18T22:09:39.706283Z"
    }
   },
   "outputs": [
    {
     "data": {
      "text/plain": [
       "(275547, 16)"
      ]
     },
     "execution_count": 95,
     "metadata": {},
     "output_type": "execute_result"
    }
   ],
   "source": [
    "data_all.shape"
   ]
  },
  {
   "cell_type": "code",
   "execution_count": 96,
   "metadata": {
    "ExecuteTime": {
     "end_time": "2020-04-18T22:09:44.658739Z",
     "start_time": "2020-04-18T22:09:44.655733Z"
    }
   },
   "outputs": [],
   "source": [
    "features = sorted(all_features.columns[2:])"
   ]
  },
  {
   "cell_type": "code",
   "execution_count": 97,
   "metadata": {
    "ExecuteTime": {
     "end_time": "2020-04-18T22:09:45.401256Z",
     "start_time": "2020-04-18T22:09:45.395311Z"
    },
    "scrolled": true
   },
   "outputs": [
    {
     "data": {
      "text/plain": [
       "['action_distinct_count',\n",
       " 'age',\n",
       " 'avg_secs',\n",
       " 'device_distinct_count',\n",
       " 'diff_firstbooking_datecreated',\n",
       " 'diff_firstbooking_firstactive',\n",
       " 'distance_km',\n",
       " 'first_browser_-unknown-',\n",
       " 'first_browser_AOL Explorer',\n",
       " 'first_browser_Android Browser',\n",
       " 'first_browser_Apple Mail',\n",
       " 'first_browser_Arora',\n",
       " 'first_browser_Avant Browser',\n",
       " 'first_browser_BlackBerry Browser',\n",
       " 'first_browser_Camino',\n",
       " 'first_browser_Chrome',\n",
       " 'first_browser_Chrome Mobile',\n",
       " 'first_browser_Chromium',\n",
       " 'first_browser_CometBird',\n",
       " 'first_browser_Comodo Dragon',\n",
       " 'first_browser_Conkeror',\n",
       " 'first_browser_CoolNovo',\n",
       " 'first_browser_Crazy Browser',\n",
       " 'first_browser_Epic',\n",
       " 'first_browser_Firefox',\n",
       " 'first_browser_Flock',\n",
       " 'first_browser_Google Earth',\n",
       " 'first_browser_Googlebot',\n",
       " 'first_browser_IBrowse',\n",
       " 'first_browser_IE',\n",
       " 'first_browser_IE Mobile',\n",
       " 'first_browser_IceDragon',\n",
       " 'first_browser_IceWeasel',\n",
       " 'first_browser_Iron',\n",
       " 'first_browser_Kindle Browser',\n",
       " 'first_browser_Maxthon',\n",
       " 'first_browser_Mobile Firefox',\n",
       " 'first_browser_Mobile Safari',\n",
       " 'first_browser_Mozilla',\n",
       " 'first_browser_NetNewsWire',\n",
       " 'first_browser_Nintendo Browser',\n",
       " 'first_browser_OmniWeb',\n",
       " 'first_browser_Opera',\n",
       " 'first_browser_Opera Mini',\n",
       " 'first_browser_Opera Mobile',\n",
       " 'first_browser_Outlook 2007',\n",
       " 'first_browser_PS Vita browser',\n",
       " 'first_browser_Pale Moon',\n",
       " 'first_browser_Palm Pre web browser',\n",
       " 'first_browser_RockMelt',\n",
       " 'first_browser_Safari',\n",
       " 'first_browser_SeaMonkey',\n",
       " 'first_browser_Silk',\n",
       " 'first_browser_SiteKiosk',\n",
       " 'first_browser_SlimBrowser',\n",
       " 'first_browser_Sogou Explorer',\n",
       " 'first_browser_Stainless',\n",
       " 'first_browser_TenFourFox',\n",
       " 'first_browser_TheWorld Browser',\n",
       " 'first_browser_UC Browser',\n",
       " 'first_browser_Yandex.Browser',\n",
       " 'first_browser_wOSBrowser',\n",
       " 'first_device_type_Android Phone',\n",
       " 'first_device_type_Android Tablet',\n",
       " 'first_device_type_Desktop (Other)',\n",
       " 'first_device_type_Mac Desktop',\n",
       " 'first_device_type_Other/Unknown',\n",
       " 'first_device_type_SmartPhone (Other)',\n",
       " 'first_device_type_Windows Desktop',\n",
       " 'first_device_type_iPad',\n",
       " 'first_device_type_iPhone',\n",
       " 'gender_feature',\n",
       " 'language_levenshtein_distance',\n",
       " 'min_secs',\n",
       " 'sessions_count',\n",
       " 'signup_app_Android',\n",
       " 'signup_app_Moweb',\n",
       " 'signup_app_Web',\n",
       " 'signup_app_iOS',\n",
       " 'signup_method_basic',\n",
       " 'signup_method_facebook',\n",
       " 'signup_method_google',\n",
       " 'signup_method_weibo',\n",
       " 'total_secs']"
      ]
     },
     "execution_count": 97,
     "metadata": {},
     "output_type": "execute_result"
    }
   ],
   "source": [
    "features"
   ]
  },
  {
   "cell_type": "code",
   "execution_count": 98,
   "metadata": {
    "ExecuteTime": {
     "end_time": "2020-04-18T22:10:25.818185Z",
     "start_time": "2020-04-18T22:10:25.584944Z"
    }
   },
   "outputs": [],
   "source": [
    "X_train = all_features.loc[all_features['pop']=='train', features].values\n",
    "X_test = all_features.loc[all_features['pop']=='test', features].values\n",
    "y_train = train_users['country_destination'].values"
   ]
  },
  {
   "cell_type": "code",
   "execution_count": 99,
   "metadata": {
    "ExecuteTime": {
     "end_time": "2020-04-18T22:12:14.304062Z",
     "start_time": "2020-04-18T22:12:13.961234Z"
    }
   },
   "outputs": [],
   "source": [
    "from xgboost.sklearn import XGBClassifier\n",
    "from sklearn.preprocessing import LabelEncoder\n",
    "\n",
    "labler = LabelEncoder()\n",
    "y_train = labler.fit_transform(y_train)\n"
   ]
  },
  {
   "cell_type": "code",
   "execution_count": 100,
   "metadata": {
    "ExecuteTime": {
     "end_time": "2020-04-18T22:12:15.100318Z",
     "start_time": "2020-04-18T22:12:15.091654Z"
    }
   },
   "outputs": [
    {
     "data": {
      "text/plain": [
       "array([ 0,  1,  2,  3,  4,  5,  6,  7,  8,  9, 10, 11])"
      ]
     },
     "execution_count": 100,
     "metadata": {},
     "output_type": "execute_result"
    }
   ],
   "source": [
    "np.unique(y_train)"
   ]
  },
  {
   "cell_type": "code",
   "execution_count": 102,
   "metadata": {
    "ExecuteTime": {
     "end_time": "2020-04-18T22:13:33.678439Z",
     "start_time": "2020-04-18T22:13:33.666171Z"
    }
   },
   "outputs": [
    {
     "name": "stderr",
     "output_type": "stream",
     "text": [
      "/anaconda3/lib/python3.7/site-packages/sklearn/model_selection/_split.py:296: FutureWarning: Setting a random_state has no effect since shuffle is False. This will raise an error in 0.24. You should leave random_state to its default (None), or set shuffle=True.\n",
      "  FutureWarning\n"
     ]
    }
   ],
   "source": [
    "import xgboost\n",
    "from sklearn.model_selection import StratifiedKFold\n",
    "from sklearn.model_selection import cross_val_score\n",
    "from sklearn.model_selection import RandomizedSearchCV, GridSearchCV\n",
    "\n",
    "xgb = xgboost.XGBClassifier(n_estimators=300)\n",
    "kfold = StratifiedKFold(n_splits=10, random_state=7)\n",
    "# results = cross_val_score(model, X_train, y_train, cv=kfold)\n"
   ]
  },
  {
   "cell_type": "code",
   "execution_count": 103,
   "metadata": {
    "ExecuteTime": {
     "end_time": "2020-04-18T22:13:36.061506Z",
     "start_time": "2020-04-18T22:13:36.057095Z"
    }
   },
   "outputs": [
    {
     "data": {
      "text/plain": [
       "((213451, 84), (213451,))"
      ]
     },
     "execution_count": 103,
     "metadata": {},
     "output_type": "execute_result"
    }
   ],
   "source": [
    "X_train.shape, y_train.shape"
   ]
  },
  {
   "cell_type": "code",
   "execution_count": 112,
   "metadata": {
    "ExecuteTime": {
     "end_time": "2020-04-18T22:18:24.046511Z",
     "start_time": "2020-04-18T22:18:24.040295Z"
    }
   },
   "outputs": [
    {
     "data": {
      "text/plain": [
       "array([ 7,  7, 10, ...,  7,  7,  7])"
      ]
     },
     "execution_count": 112,
     "metadata": {},
     "output_type": "execute_result"
    }
   ],
   "source": [
    "y_train"
   ]
  },
  {
   "cell_type": "code",
   "execution_count": 114,
   "metadata": {
    "ExecuteTime": {
     "end_time": "2020-04-18T22:40:54.556862Z",
     "start_time": "2020-04-18T22:18:50.197029Z"
    }
   },
   "outputs": [
    {
     "data": {
      "text/plain": [
       "XGBClassifier(base_score=0.5, booster='gbtree', colsample_bylevel=1,\n",
       "              colsample_bynode=1, colsample_bytree=1, colsamplebytree=0.9,\n",
       "              gamma=0, learning_rate=0.1, max_delta_step=0, max_depth=7,\n",
       "              min_child_weight=1, minchildweight=1, missing=None,\n",
       "              n_estimators=100, n_gpus=1, n_jobs=1, nthread=None, num_class=20,\n",
       "              objective='multi:softprob', random_state=0, reg_alpha=0,\n",
       "              reg_lambda=1, scale_pos_weight=1, seed=None, silent=None,\n",
       "              subsample=0.9, verbosity=1)"
      ]
     },
     "execution_count": 114,
     "metadata": {},
     "output_type": "execute_result"
    }
   ],
   "source": [
    "params = {\n",
    "    'max_depth': 7,\n",
    "    'objective': 'multi:softmax',  \n",
    "    'num_class': 20,\n",
    "    'n_gpus': 1,\n",
    "    'minchildweight':1, \n",
    "    'gamma':0, \n",
    "    'subsample':0.9, \n",
    "    'colsamplebytree':0.9\n",
    "}\n",
    "clf = xgboost.XGBClassifier(**params)\n",
    "clf.fit(X_train, y_train)"
   ]
  },
  {
   "cell_type": "code",
   "execution_count": 121,
   "metadata": {
    "ExecuteTime": {
     "end_time": "2020-04-18T22:43:37.557769Z",
     "start_time": "2020-04-18T22:43:35.073271Z"
    }
   },
   "outputs": [],
   "source": [
    "y_pred = clf.predict(X_test) "
   ]
  },
  {
   "cell_type": "code",
   "execution_count": 122,
   "metadata": {
    "ExecuteTime": {
     "end_time": "2020-04-18T22:43:38.185899Z",
     "start_time": "2020-04-18T22:43:38.181801Z"
    }
   },
   "outputs": [
    {
     "data": {
      "text/plain": [
       "array([7, 7, 7, ..., 7, 7, 7])"
      ]
     },
     "execution_count": 122,
     "metadata": {},
     "output_type": "execute_result"
    }
   ],
   "source": [
    "y_pred"
   ]
  },
  {
   "cell_type": "code",
   "execution_count": 125,
   "metadata": {
    "ExecuteTime": {
     "end_time": "2020-04-18T22:45:14.127165Z",
     "start_time": "2020-04-18T22:45:14.122702Z"
    }
   },
   "outputs": [],
   "source": [
    "y_pred_orig = labler.inverse_transform(y_pred)\n"
   ]
  },
  {
   "cell_type": "code",
   "execution_count": 126,
   "metadata": {
    "ExecuteTime": {
     "end_time": "2020-04-18T22:45:22.381477Z",
     "start_time": "2020-04-18T22:45:22.377027Z"
    }
   },
   "outputs": [
    {
     "data": {
      "text/plain": [
       "array(['NDF', 'NDF', 'NDF', ..., 'NDF', 'NDF', 'NDF'], dtype=object)"
      ]
     },
     "execution_count": 126,
     "metadata": {},
     "output_type": "execute_result"
    }
   ],
   "source": [
    "y_pred_orig"
   ]
  },
  {
   "cell_type": "code",
   "execution_count": null,
   "metadata": {},
   "outputs": [],
   "source": [
    "param_test = {\n",
    " 'max_depth':list(range(3,10,2)),\n",
    " 'min_child_weight':list(range(1,6,2)),\n",
    " 'max_depth':[2,4,5,6],\n",
    " 'min_child_weight':[1,3,5,6],\n",
    " 'learning_rate' : [0.1,0.2,0.3],\n",
    " 'subsample': [0.8],\n",
    " 'colsample_bytree':[0.8], \n",
    " 'objective':['multi:softprob']\n",
    "}\n",
    "gridsearch = GridSearchCV(xgb,\n",
    "                                   param_grid=param_test                                  \n",
    "                                   , scoring='accuracy'\n",
    "                                   , n_jobs=1\n",
    "                                   , cv=kfold.split(X_train, y_train)\n",
    "                                   , verbose=True                                \n",
    "                                  )\n",
    "gridsearch.fit(X_train, y_train)\n"
   ]
  },
  {
   "cell_type": "code",
   "execution_count": null,
   "metadata": {},
   "outputs": [],
   "source": [
    "print(gridsearch.cv_results_)\n",
    "print('\\n Best est:')\n",
    "print(gridsearch.best_estimator_)\n",
    "print('\\n Best normalized gini score for %d-fold search with %d parameter combinations:' % (folds, param_comb))\n",
    "print(random_search.best_score_ * 2 - 1)\n",
    "print('\\n Best hyperparameters:')\n",
    "print(random_search.best_params_)\n",
    "results = pd.DataFrame(random_search.cv_results_)\n",
    "results.to_csv('Airbnb_xgb_gs_res.csv', index=False)"
   ]
  },
  {
   "cell_type": "code",
   "execution_count": 325,
   "metadata": {},
   "outputs": [
    {
     "data": {
      "text/plain": [
       "array([ 7,  7, 10, ...,  7,  7,  7])"
      ]
     },
     "execution_count": 325,
     "metadata": {},
     "output_type": "execute_result"
    }
   ],
   "source": [
    "y_train"
   ]
  },
  {
   "cell_type": "code",
   "execution_count": 327,
   "metadata": {},
   "outputs": [],
   "source": [
    "xgb = XGBClassifier(max_depth=6, learning_rate=0.3, n_estimators=22,\n",
    "                    objective='multi:softprob', subsample=0.6, colsample_bytree=0.6, seed=0)               \n",
    "xgb.fit(X_train, y_train)\n",
    "y_pred = xgb.predict_proba(X_test) "
   ]
  },
  {
   "cell_type": "code",
   "execution_count": null,
   "metadata": {},
   "outputs": [],
   "source": [
    "ids = []  #list of ids\n",
    "cts = []  #list of countries\n",
    "for i in range(len(X_test)):\n",
    "    idx = test_ids[i]\n",
    "    ids += [idx] * 5\n",
    "    cts += labler.inverse_transform(np.argsort(y_pred[i])[::-1])[:5].tolist()\n"
   ]
  }
 ],
 "metadata": {
  "kernelspec": {
   "display_name": "Python 3",
   "language": "python",
   "name": "python3"
  },
  "language_info": {
   "codemirror_mode": {
    "name": "ipython",
    "version": 3
   },
   "file_extension": ".py",
   "mimetype": "text/x-python",
   "name": "python",
   "nbconvert_exporter": "python",
   "pygments_lexer": "ipython3",
   "version": "3.7.3"
  }
 },
 "nbformat": 4,
 "nbformat_minor": 2
}
